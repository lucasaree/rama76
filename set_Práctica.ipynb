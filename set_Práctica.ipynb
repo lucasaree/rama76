{
  "nbformat": 4,
  "nbformat_minor": 0,
  "metadata": {
    "colab": {
      "provenance": [],
      "include_colab_link": true
    },
    "kernelspec": {
      "name": "python3",
      "display_name": "Python 3"
    },
    "language_info": {
      "name": "python"
    }
  },
  "cells": [
    {
      "cell_type": "markdown",
      "metadata": {
        "id": "view-in-github",
        "colab_type": "text"
      },
      "source": [
        "<a href=\"https://colab.research.google.com/github/lucasaree/tps-pii-colab/blob/main/set_Pr%C3%A1ctica.ipynb\" target=\"_parent\"><img src=\"https://colab.research.google.com/assets/colab-badge.svg\" alt=\"Open In Colab\"/></a>"
      ]
    },
    {
      "cell_type": "code",
      "execution_count": 1,
      "metadata": {
        "id": "8VOD-zpMJovw"
      },
      "outputs": [],
      "source": [
        "estudiantes = [\n",
        "    {'name': 'Abud Laspiur, Lourdes Mariel', 'section': 'C', 'dob': '05/12/2006'},\n",
        "    {'name': 'Amador, Luana Micaela', 'section': 'C', 'dob': '09/12/2006'},\n",
        "    {'name': 'Anaquin, Leonardo Ezequiel', 'section': 'C', 'dob': '06/09/2005'},\n",
        "    {'name': 'Araoz Sanchez, Lautaro Nahuel', 'section': 'C', 'dob': '28/12/2005'},\n",
        "    {'name': 'Argañaraz, Agostina Abril', 'section': 'C', 'dob': '11/10/2006'},\n",
        "    {'name': 'Barrera, Matias Ezequiel', 'section': 'C', 'dob': '27/02/2007'},\n",
        "    {'name': 'Barrera, Matias Ezequiel', 'section': 'C', 'dob': '27/02/2007'},  # Repetido\n",
        "    {'name': 'Barrozo Vedia, Joaquin Nicolas', 'section': 'C', 'dob': '15/04/2006'},\n",
        "    {'name': 'Bettinelli, Valentino', 'section': 'C', 'dob': '12/07/2006'},\n",
        "    {'name': 'Bracamonte Martinez, Salvador', 'section': 'C', 'dob': '02/11/2005'},\n",
        "    {'name': 'Colque Rivero, Ariana Zoe Del Valle', 'section': 'C', 'dob': '27/12/2006'},\n",
        "    {'name': 'Diaz, Dulce Maitena', 'section': 'C', 'dob': '11/12/2006'},\n",
        "    {'name': 'Figueroa, Santino Josue', 'section': 'C', 'dob': '12/05/2007'},\n",
        "    {'name': 'Figueroa, Santino Josue', 'section': 'C', 'dob': '12/05/2007'},  # Repetido\n",
        "    {'name': 'Flores Cardozo, Agustina Tiara', 'section': 'C', 'dob': '18/03/2006'},\n",
        "    {'name': 'Gallo, Octavio Ismael', 'section': 'C', 'dob': '04/08/2006'},\n",
        "    {'name': 'Galvan, Lourdes Yamila', 'section': 'C', 'dob': '19/08/2005'},\n",
        "    {'name': 'Giangreco, Vitto Tomasso', 'section': 'C', 'dob': '21/03/2007'},\n",
        "    {'name': 'Grancara, Martina Luna', 'section': 'C', 'dob': '15/12/2006'},\n",
        "    {'name': 'Guanca, Sara Elizabeth', 'section': 'C', 'dob': '17/01/2007'},\n",
        "    {'name': 'Lopez, Victoria Constanza', 'section': 'C', 'dob': '12/11/2007'},\n",
        "    {'name': 'Mamani Garrido, Rosario Agostina', 'section': 'C', 'dob': '24/10/2006'},\n",
        "    {'name': 'Marinaro, Martin Ezequiel', 'section': 'C', 'dob': '03/11/2006'},\n",
        "    {'name': 'Merluzzi Dagum, Ignacio', 'section': 'C', 'dob': '22/12/2005'},\n",
        "    {'name': 'Messina, Martina', 'section': 'C', 'dob': '13/07/2005'},\n",
        "    {'name': 'Rasuk, Karim', 'section': 'C', 'dob': '13/07/2007'},\n",
        "    {'name': 'Rasuk, Karim', 'section': 'C', 'dob': '13/07/2007'},  # Repetido\n",
        "    {'name': 'Rios, Lucia Magali', 'section': 'C', 'dob': '22/09/2006'},\n",
        "    {'name': 'Sanchez Flores, Matías Agustín', 'section': 'C', 'dob': '15/02/2007'},\n",
        "    {'name': 'Scarano, Renato Marcelo', 'section': 'C', 'dob': '06/12/2006'},\n",
        "    {'name': 'Sierra, Lucas Mauricio', 'section': 'C', 'dob': '03/04/2005'},\n",
        "    {'name': 'Tapia, Martin Gabriel', 'section': 'C', 'dob': '30/05/2006'},\n",
        "    {'name': 'Vilte, Mia Antonella Alondra', 'section': 'C', 'dob': '10/09/2005'},\n",
        "    {'name': 'Virgillito, Katya Milena', 'section': 'C', 'dob': '19/06/2007'},\n",
        "    {'name': 'Alurralde, Solange Stefania', 'section': 'D', 'dob': '02/04/2007'},\n",
        "    {'name': 'Alvarado, Ludmila Del Milagro', 'section': 'D', 'dob': '06/09/2006'},\n",
        "    {'name': 'Angel, Camila Juliana', 'section': 'D', 'dob': '07/03/2007'},\n",
        "    {'name': 'Arenas, Lucas Gabriel', 'section': 'D', 'dob': '26/06/2007'},\n",
        "    {'name': 'Caseres, Maria Antonia', 'section': 'D', 'dob': '01/07/2006'},\n",
        "    {'name': 'Castillo, Paulina Milagros', 'section': 'D', 'dob': '01/06/2007'},\n",
        "    {'name': 'Correa Segovia, Hugo Mariano', 'section': 'D', 'dob': '04/12/2006'},\n",
        "    {'name': 'Correa Segovia, Hugo Mariano', 'section': 'D', 'dob': '04/12/2006'},  # Repetido\n",
        "    {'name': 'D Elia, Alvaro Tadeo', 'section': 'D', 'dob': '27/08/2006'},\n",
        "    {'name': 'Flores, Victoria Agustina', 'section': 'D', 'dob': '12/12/2006'},\n",
        "    {'name': 'Geronimo Soriano, Lizzie Amaya', 'section': 'D', 'dob': '20/01/2007'},\n",
        "    {'name': 'Guzman, Angélica Morena', 'section': 'D', 'dob': '11/04/2007'},\n",
        "    {'name': 'Guzman, Jazmin Esmeralda Belen', 'section': 'D', 'dob': '31/07/2006'},\n",
        "    {'name': 'Jaime, Anita Maria Belen', 'section': 'D', 'dob': '19/04/2007'},\n",
        "    {'name': 'Lacour Polo, Nazarena', 'section': 'D', 'dob': '19/12/2005'},\n",
        "    {'name': 'Lascano Guanca, Marcelo Fabricio', 'section': 'D', 'dob': '17/02/2006'},\n",
        "    {'name': 'Lezcano, Celia Morena', 'section': 'D', 'dob': '01/07/2005'},\n",
        "    {'name': 'Martinez, Tomas Andres', 'section': 'D', 'dob': '22/03/2007'},\n",
        "    {'name': 'Portella Valdivia, Pedro Francisco', 'section': 'D', 'dob': '24/01/2007'},\n",
        "    {'name': 'Retamal Cisneros, Zacarias Josue', 'section': 'D', 'dob': '24/02/2007'},\n",
        "    {'name': 'Rosales, Francisco Gabriel', 'section': 'D', 'dob': '14/11/2006'},\n",
        "    {'name': 'Salem Barba, Mahia', 'section': 'D', 'dob': '14/10/2005'},\n",
        "    {'name': 'Soto Camara, Agustin Ignacio', 'section': 'D', 'dob': '07/11/2005'},\n",
        "    {'name': 'Villalba, Irina', 'section': 'D', 'dob': '09/09/2006'},\n",
        "    {'name': 'Voltolini, Emanuel Tobias', 'section': 'D', 'dob': '17/09/2006'},\n",
        "    {'name': 'Zalazar, Santino Stefano', 'section': 'D', 'dob': '30/09/2006'},\n",
        "    {'name': 'Zalazar, Santino Stefano', 'section': 'D', 'dob': '30/09/2006'}  # Repetido\n",
        "]"
      ]
    },
    {
      "cell_type": "code",
      "source": [
        "# Spoiler de estructura que veremos en los siguientes TPs\n",
        "import json\n",
        "for estudiante in estudiantes:\n",
        "  alumno_json = json.dumps(estudiante,indent=4,ensure_ascii=False)\n",
        "  print(alumno_json,\",\")"
      ],
      "metadata": {
        "colab": {
          "base_uri": "https://localhost:8080/"
        },
        "id": "7lcHoIqemYFH",
        "outputId": "aa40016e-27af-4542-d402-43bac567251f"
      },
      "execution_count": null,
      "outputs": [
        {
          "output_type": "stream",
          "name": "stdout",
          "text": [
            "{\n",
            "    \"name\": \"Abud Laspiur, Lourdes Mariel\",\n",
            "    \"section\": \"C\",\n",
            "    \"dob\": \"05/12/2006\"\n",
            "} ,\n",
            "{\n",
            "    \"name\": \"Amador, Luana Micaela\",\n",
            "    \"section\": \"C\",\n",
            "    \"dob\": \"09/12/2006\"\n",
            "} ,\n",
            "{\n",
            "    \"name\": \"Anaquin, Leonardo Ezequiel\",\n",
            "    \"section\": \"C\",\n",
            "    \"dob\": \"06/09/2005\"\n",
            "} ,\n",
            "{\n",
            "    \"name\": \"Araoz Sanchez, Lautaro Nahuel\",\n",
            "    \"section\": \"C\",\n",
            "    \"dob\": \"28/12/2005\"\n",
            "} ,\n",
            "{\n",
            "    \"name\": \"Argañaraz, Agostina Abril\",\n",
            "    \"section\": \"C\",\n",
            "    \"dob\": \"11/10/2006\"\n",
            "} ,\n",
            "{\n",
            "    \"name\": \"Barrera, Matias Ezequiel\",\n",
            "    \"section\": \"C\",\n",
            "    \"dob\": \"27/02/2007\"\n",
            "} ,\n",
            "{\n",
            "    \"name\": \"Barrera, Matias Ezequiel\",\n",
            "    \"section\": \"C\",\n",
            "    \"dob\": \"27/02/2007\"\n",
            "} ,\n",
            "{\n",
            "    \"name\": \"Barrozo Vedia, Joaquin Nicolas\",\n",
            "    \"section\": \"C\",\n",
            "    \"dob\": \"15/04/2006\"\n",
            "} ,\n",
            "{\n",
            "    \"name\": \"Bettinelli, Valentino\",\n",
            "    \"section\": \"C\",\n",
            "    \"dob\": \"12/07/2006\"\n",
            "} ,\n",
            "{\n",
            "    \"name\": \"Bracamonte Martinez, Salvador\",\n",
            "    \"section\": \"C\",\n",
            "    \"dob\": \"02/11/2005\"\n",
            "} ,\n",
            "{\n",
            "    \"name\": \"Colque Rivero, Ariana Zoe Del Valle\",\n",
            "    \"section\": \"C\",\n",
            "    \"dob\": \"27/12/2006\"\n",
            "} ,\n",
            "{\n",
            "    \"name\": \"Diaz, Dulce Maitena\",\n",
            "    \"section\": \"C\",\n",
            "    \"dob\": \"11/12/2006\"\n",
            "} ,\n",
            "{\n",
            "    \"name\": \"Figueroa, Santino Josue\",\n",
            "    \"section\": \"C\",\n",
            "    \"dob\": \"12/05/2007\"\n",
            "} ,\n",
            "{\n",
            "    \"name\": \"Figueroa, Santino Josue\",\n",
            "    \"section\": \"C\",\n",
            "    \"dob\": \"12/05/2007\"\n",
            "} ,\n",
            "{\n",
            "    \"name\": \"Flores Cardozo, Agustina Tiara\",\n",
            "    \"section\": \"C\",\n",
            "    \"dob\": \"18/03/2006\"\n",
            "} ,\n",
            "{\n",
            "    \"name\": \"Gallo, Octavio Ismael\",\n",
            "    \"section\": \"C\",\n",
            "    \"dob\": \"04/08/2006\"\n",
            "} ,\n",
            "{\n",
            "    \"name\": \"Galvan, Lourdes Yamila\",\n",
            "    \"section\": \"C\",\n",
            "    \"dob\": \"19/08/2005\"\n",
            "} ,\n",
            "{\n",
            "    \"name\": \"Giangreco, Vitto Tomasso\",\n",
            "    \"section\": \"C\",\n",
            "    \"dob\": \"21/03/2007\"\n",
            "} ,\n",
            "{\n",
            "    \"name\": \"Grancara, Martina Luna\",\n",
            "    \"section\": \"C\",\n",
            "    \"dob\": \"15/12/2006\"\n",
            "} ,\n",
            "{\n",
            "    \"name\": \"Guanca, Sara Elizabeth\",\n",
            "    \"section\": \"C\",\n",
            "    \"dob\": \"17/01/2007\"\n",
            "} ,\n",
            "{\n",
            "    \"name\": \"Lopez, Victoria Constanza\",\n",
            "    \"section\": \"C\",\n",
            "    \"dob\": \"12/11/2007\"\n",
            "} ,\n",
            "{\n",
            "    \"name\": \"Mamani Garrido, Rosario Agostina\",\n",
            "    \"section\": \"C\",\n",
            "    \"dob\": \"24/10/2006\"\n",
            "} ,\n",
            "{\n",
            "    \"name\": \"Marinaro, Martin Ezequiel\",\n",
            "    \"section\": \"C\",\n",
            "    \"dob\": \"03/11/2006\"\n",
            "} ,\n",
            "{\n",
            "    \"name\": \"Merluzzi Dagum, Ignacio\",\n",
            "    \"section\": \"C\",\n",
            "    \"dob\": \"22/12/2005\"\n",
            "} ,\n",
            "{\n",
            "    \"name\": \"Messina, Martina\",\n",
            "    \"section\": \"C\",\n",
            "    \"dob\": \"13/07/2005\"\n",
            "} ,\n",
            "{\n",
            "    \"name\": \"Rasuk, Karim\",\n",
            "    \"section\": \"C\",\n",
            "    \"dob\": \"13/07/2007\"\n",
            "} ,\n",
            "{\n",
            "    \"name\": \"Rasuk, Karim\",\n",
            "    \"section\": \"C\",\n",
            "    \"dob\": \"13/07/2007\"\n",
            "} ,\n",
            "{\n",
            "    \"name\": \"Rios, Lucia Magali\",\n",
            "    \"section\": \"C\",\n",
            "    \"dob\": \"22/09/2006\"\n",
            "} ,\n",
            "{\n",
            "    \"name\": \"Sanchez Flores, Matías Agustín\",\n",
            "    \"section\": \"C\",\n",
            "    \"dob\": \"15/02/2007\"\n",
            "} ,\n",
            "{\n",
            "    \"name\": \"Scarano, Renato Marcelo\",\n",
            "    \"section\": \"C\",\n",
            "    \"dob\": \"06/12/2006\"\n",
            "} ,\n",
            "{\n",
            "    \"name\": \"Sierra, Lucas Mauricio\",\n",
            "    \"section\": \"C\",\n",
            "    \"dob\": \"03/04/2005\"\n",
            "} ,\n",
            "{\n",
            "    \"name\": \"Tapia, Martin Gabriel\",\n",
            "    \"section\": \"C\",\n",
            "    \"dob\": \"30/05/2006\"\n",
            "} ,\n",
            "{\n",
            "    \"name\": \"Vilte, Mia Antonella Alondra\",\n",
            "    \"section\": \"C\",\n",
            "    \"dob\": \"10/09/2005\"\n",
            "} ,\n",
            "{\n",
            "    \"name\": \"Virgillito, Katya Milena\",\n",
            "    \"section\": \"C\",\n",
            "    \"dob\": \"19/06/2007\"\n",
            "} ,\n",
            "{\n",
            "    \"name\": \"Alurralde, Solange Stefania\",\n",
            "    \"section\": \"D\",\n",
            "    \"dob\": \"02/04/2007\"\n",
            "} ,\n",
            "{\n",
            "    \"name\": \"Alvarado, Ludmila Del Milagro\",\n",
            "    \"section\": \"D\",\n",
            "    \"dob\": \"06/09/2006\"\n",
            "} ,\n",
            "{\n",
            "    \"name\": \"Angel, Camila Juliana\",\n",
            "    \"section\": \"D\",\n",
            "    \"dob\": \"07/03/2007\"\n",
            "} ,\n",
            "{\n",
            "    \"name\": \"Arenas, Lucas Gabriel\",\n",
            "    \"section\": \"D\",\n",
            "    \"dob\": \"26/06/2007\"\n",
            "} ,\n",
            "{\n",
            "    \"name\": \"Caseres, Maria Antonia\",\n",
            "    \"section\": \"D\",\n",
            "    \"dob\": \"01/07/2006\"\n",
            "} ,\n",
            "{\n",
            "    \"name\": \"Castillo, Paulina Milagros\",\n",
            "    \"section\": \"D\",\n",
            "    \"dob\": \"01/06/2007\"\n",
            "} ,\n",
            "{\n",
            "    \"name\": \"Correa Segovia, Hugo Mariano\",\n",
            "    \"section\": \"D\",\n",
            "    \"dob\": \"04/12/2006\"\n",
            "} ,\n",
            "{\n",
            "    \"name\": \"Correa Segovia, Hugo Mariano\",\n",
            "    \"section\": \"D\",\n",
            "    \"dob\": \"04/12/2006\"\n",
            "} ,\n",
            "{\n",
            "    \"name\": \"D Elia, Alvaro Tadeo\",\n",
            "    \"section\": \"D\",\n",
            "    \"dob\": \"27/08/2006\"\n",
            "} ,\n",
            "{\n",
            "    \"name\": \"Flores, Victoria Agustina\",\n",
            "    \"section\": \"D\",\n",
            "    \"dob\": \"12/12/2006\"\n",
            "} ,\n",
            "{\n",
            "    \"name\": \"Geronimo Soriano, Lizzie Amaya\",\n",
            "    \"section\": \"D\",\n",
            "    \"dob\": \"20/01/2007\"\n",
            "} ,\n",
            "{\n",
            "    \"name\": \"Guzman, Angélica Morena\",\n",
            "    \"section\": \"D\",\n",
            "    \"dob\": \"11/04/2007\"\n",
            "} ,\n",
            "{\n",
            "    \"name\": \"Guzman, Jazmin Esmeralda Belen\",\n",
            "    \"section\": \"D\",\n",
            "    \"dob\": \"31/07/2006\"\n",
            "} ,\n",
            "{\n",
            "    \"name\": \"Jaime, Anita Maria Belen\",\n",
            "    \"section\": \"D\",\n",
            "    \"dob\": \"19/04/2007\"\n",
            "} ,\n",
            "{\n",
            "    \"name\": \"Lacour Polo, Nazarena\",\n",
            "    \"section\": \"D\",\n",
            "    \"dob\": \"19/12/2005\"\n",
            "} ,\n",
            "{\n",
            "    \"name\": \"Lascano Guanca, Marcelo Fabricio\",\n",
            "    \"section\": \"D\",\n",
            "    \"dob\": \"17/02/2006\"\n",
            "} ,\n",
            "{\n",
            "    \"name\": \"Lezcano, Celia Morena\",\n",
            "    \"section\": \"D\",\n",
            "    \"dob\": \"01/07/2005\"\n",
            "} ,\n",
            "{\n",
            "    \"name\": \"Martinez, Tomas Andres\",\n",
            "    \"section\": \"D\",\n",
            "    \"dob\": \"22/03/2007\"\n",
            "} ,\n",
            "{\n",
            "    \"name\": \"Portella Valdivia, Pedro Francisco\",\n",
            "    \"section\": \"D\",\n",
            "    \"dob\": \"24/01/2007\"\n",
            "} ,\n",
            "{\n",
            "    \"name\": \"Retamal Cisneros, Zacarias Josue\",\n",
            "    \"section\": \"D\",\n",
            "    \"dob\": \"24/02/2007\"\n",
            "} ,\n",
            "{\n",
            "    \"name\": \"Rosales, Francisco Gabriel\",\n",
            "    \"section\": \"D\",\n",
            "    \"dob\": \"14/11/2006\"\n",
            "} ,\n",
            "{\n",
            "    \"name\": \"Salem Barba, Mahia\",\n",
            "    \"section\": \"D\",\n",
            "    \"dob\": \"14/10/2005\"\n",
            "} ,\n",
            "{\n",
            "    \"name\": \"Soto Camara, Agustin Ignacio\",\n",
            "    \"section\": \"D\",\n",
            "    \"dob\": \"07/11/2005\"\n",
            "} ,\n",
            "{\n",
            "    \"name\": \"Villalba, Irina\",\n",
            "    \"section\": \"D\",\n",
            "    \"dob\": \"09/09/2006\"\n",
            "} ,\n",
            "{\n",
            "    \"name\": \"Voltolini, Emanuel Tobias\",\n",
            "    \"section\": \"D\",\n",
            "    \"dob\": \"17/09/2006\"\n",
            "} ,\n",
            "{\n",
            "    \"name\": \"Zalazar, Santino Stefano\",\n",
            "    \"section\": \"D\",\n",
            "    \"dob\": \"30/09/2006\"\n",
            "} ,\n",
            "{\n",
            "    \"name\": \"Zalazar, Santino Stefano\",\n",
            "    \"section\": \"D\",\n",
            "    \"dob\": \"30/09/2006\"\n",
            "} ,\n"
          ]
        }
      ]
    },
    {
      "cell_type": "markdown",
      "source": [
        "## Dada la lista estudiantes:\n",
        "> - Hacer una celda para resolver cada punto.\n",
        "- El TP resuelto será revisado en tu repositorio, no es necesario que lo envíes, pero sí que lo pushees correctamente.\n",
        "- En la nota inicial se contempla:\n",
        "  - La incorporación de este documento a tu propio respositorio.\n",
        "  - El pusheo de los cambios realizados.\n",
        "  - La resolución de los ejercicios propuestos.\n"
      ],
      "metadata": {
        "id": "rd6Ug6v3J4uN"
      }
    },
    {
      "cell_type": "markdown",
      "source": [
        "1. Dada la lista de estudiantes, elimina los elementos repetidos de la misma, usando para ello una estructura set. El resultado final debe ser una lista, con la misma estructura de la original, pero sin datos repetidos.\n",
        "\n",
        "Para esto tener en cuenta que:\n",
        "- Los conjuntos solo pueden almacenar datos inmutables.\n",
        "- Los diccionarios son estructuras mutables.\n",
        "- dict.items() devuelve una lista de tuplas.\n",
        "- dict(tupla) genera un diccionario, donde el primer elemento de la tupla es la clave, y el segundo el valor. Ej:\n",
        "  -\n",
        "  ```python\n",
        "  dict([(\"Alberto\", 10), (\"José\", 7), (\"Dario\", 14), (\"Ana\", 8), (\"Maria\", 9), (\"Emilia\", 10)])\n",
        "\n",
        "  va a generar el siguiente diccionario:\n",
        "\n",
        "  ```python\n",
        "  {'Alberto': 10, 'José': 7, 'Dario': 14, 'Ana': 8, 'Maria': 9, 'Emilia': 10}\n",
        "  ```\n",
        "\n"
      ],
      "metadata": {
        "id": "wRLng-uURyJ3"
      }
    },
    {
      "cell_type": "code",
      "source": [
        "prueba1=dict.items({'Alberto': 10, 'José': 7, 'Dario': 14, 'Ana': 8, 'Maria': 9, 'Emilia': 10})\n",
        "print(prueba1)"
      ],
      "metadata": {
        "id": "Z2uI_TTiU74C",
        "outputId": "ecd29f87-f474-462c-a7aa-19dc6621689d",
        "colab": {
          "base_uri": "https://localhost:8080/"
        }
      },
      "execution_count": null,
      "outputs": [
        {
          "output_type": "stream",
          "name": "stdout",
          "text": [
            "dict_items([('Alberto', 10), ('José', 7), ('Dario', 14), ('Ana', 8), ('Maria', 9), ('Emilia', 10)])\n"
          ]
        }
      ]
    },
    {
      "cell_type": "code",
      "source": [
        "prueba1=list(prueba1)\n",
        "print(prueba1)"
      ],
      "metadata": {
        "id": "HjcfIThtWQQ9",
        "outputId": "c853ee84-5038-4919-d30b-c7cbe6099307",
        "colab": {
          "base_uri": "https://localhost:8080/"
        }
      },
      "execution_count": null,
      "outputs": [
        {
          "output_type": "stream",
          "name": "stdout",
          "text": [
            "[('Alberto', 10), ('José', 7), ('Dario', 14), ('Ana', 8), ('Maria', 9), ('Emilia', 10)]\n"
          ]
        }
      ]
    },
    {
      "cell_type": "code",
      "source": [
        "pruebareal=tuple(prueba1)\n",
        "print(pruebareal)"
      ],
      "metadata": {
        "id": "_9J77d4lWsRJ",
        "outputId": "e754d768-06c8-4f79-8a3e-6895d057d215",
        "colab": {
          "base_uri": "https://localhost:8080/"
        }
      },
      "execution_count": null,
      "outputs": [
        {
          "output_type": "stream",
          "name": "stdout",
          "text": [
            "(('Alberto', 10), ('José', 7), ('Dario', 14), ('Ana', 8), ('Maria', 9), ('Emilia', 10))\n"
          ]
        }
      ]
    },
    {
      "cell_type": "code",
      "source": [
        "pruebareal=set(pruebareal)\n",
        "print(pruebareal)"
      ],
      "metadata": {
        "id": "sYKpYtyzXDo-",
        "outputId": "8f9d1210-0690-48b6-d96a-a34d1aff5f2d",
        "colab": {
          "base_uri": "https://localhost:8080/"
        }
      },
      "execution_count": null,
      "outputs": [
        {
          "output_type": "stream",
          "name": "stdout",
          "text": [
            "{('Ana', 8), ('Maria', 9), ('Alberto', 10), ('Emilia', 10), ('Dario', 14), ('José', 7)}\n"
          ]
        }
      ]
    },
    {
      "cell_type": "code",
      "source": [
        "lista=[]\n",
        "\n",
        "for tupla in estudiantes:\n",
        "  lista.append(tuple(tupla.items()))\n",
        "for alumno in lista:\n",
        "  print(alumno)"
      ],
      "metadata": {
        "id": "yPZ9XzvRXZGV",
        "outputId": "18eb5001-0e7f-4ce6-c5ff-38472dbef640",
        "colab": {
          "base_uri": "https://localhost:8080/"
        }
      },
      "execution_count": 2,
      "outputs": [
        {
          "output_type": "stream",
          "name": "stdout",
          "text": [
            "(('name', 'Abud Laspiur, Lourdes Mariel'), ('section', 'C'), ('dob', '05/12/2006'))\n",
            "(('name', 'Amador, Luana Micaela'), ('section', 'C'), ('dob', '09/12/2006'))\n",
            "(('name', 'Anaquin, Leonardo Ezequiel'), ('section', 'C'), ('dob', '06/09/2005'))\n",
            "(('name', 'Araoz Sanchez, Lautaro Nahuel'), ('section', 'C'), ('dob', '28/12/2005'))\n",
            "(('name', 'Argañaraz, Agostina Abril'), ('section', 'C'), ('dob', '11/10/2006'))\n",
            "(('name', 'Barrera, Matias Ezequiel'), ('section', 'C'), ('dob', '27/02/2007'))\n",
            "(('name', 'Barrera, Matias Ezequiel'), ('section', 'C'), ('dob', '27/02/2007'))\n",
            "(('name', 'Barrozo Vedia, Joaquin Nicolas'), ('section', 'C'), ('dob', '15/04/2006'))\n",
            "(('name', 'Bettinelli, Valentino'), ('section', 'C'), ('dob', '12/07/2006'))\n",
            "(('name', 'Bracamonte Martinez, Salvador'), ('section', 'C'), ('dob', '02/11/2005'))\n",
            "(('name', 'Colque Rivero, Ariana Zoe Del Valle'), ('section', 'C'), ('dob', '27/12/2006'))\n",
            "(('name', 'Diaz, Dulce Maitena'), ('section', 'C'), ('dob', '11/12/2006'))\n",
            "(('name', 'Figueroa, Santino Josue'), ('section', 'C'), ('dob', '12/05/2007'))\n",
            "(('name', 'Figueroa, Santino Josue'), ('section', 'C'), ('dob', '12/05/2007'))\n",
            "(('name', 'Flores Cardozo, Agustina Tiara'), ('section', 'C'), ('dob', '18/03/2006'))\n",
            "(('name', 'Gallo, Octavio Ismael'), ('section', 'C'), ('dob', '04/08/2006'))\n",
            "(('name', 'Galvan, Lourdes Yamila'), ('section', 'C'), ('dob', '19/08/2005'))\n",
            "(('name', 'Giangreco, Vitto Tomasso'), ('section', 'C'), ('dob', '21/03/2007'))\n",
            "(('name', 'Grancara, Martina Luna'), ('section', 'C'), ('dob', '15/12/2006'))\n",
            "(('name', 'Guanca, Sara Elizabeth'), ('section', 'C'), ('dob', '17/01/2007'))\n",
            "(('name', 'Lopez, Victoria Constanza'), ('section', 'C'), ('dob', '12/11/2007'))\n",
            "(('name', 'Mamani Garrido, Rosario Agostina'), ('section', 'C'), ('dob', '24/10/2006'))\n",
            "(('name', 'Marinaro, Martin Ezequiel'), ('section', 'C'), ('dob', '03/11/2006'))\n",
            "(('name', 'Merluzzi Dagum, Ignacio'), ('section', 'C'), ('dob', '22/12/2005'))\n",
            "(('name', 'Messina, Martina'), ('section', 'C'), ('dob', '13/07/2005'))\n",
            "(('name', 'Rasuk, Karim'), ('section', 'C'), ('dob', '13/07/2007'))\n",
            "(('name', 'Rasuk, Karim'), ('section', 'C'), ('dob', '13/07/2007'))\n",
            "(('name', 'Rios, Lucia Magali'), ('section', 'C'), ('dob', '22/09/2006'))\n",
            "(('name', 'Sanchez Flores, Matías Agustín'), ('section', 'C'), ('dob', '15/02/2007'))\n",
            "(('name', 'Scarano, Renato Marcelo'), ('section', 'C'), ('dob', '06/12/2006'))\n",
            "(('name', 'Sierra, Lucas Mauricio'), ('section', 'C'), ('dob', '03/04/2005'))\n",
            "(('name', 'Tapia, Martin Gabriel'), ('section', 'C'), ('dob', '30/05/2006'))\n",
            "(('name', 'Vilte, Mia Antonella Alondra'), ('section', 'C'), ('dob', '10/09/2005'))\n",
            "(('name', 'Virgillito, Katya Milena'), ('section', 'C'), ('dob', '19/06/2007'))\n",
            "(('name', 'Alurralde, Solange Stefania'), ('section', 'D'), ('dob', '02/04/2007'))\n",
            "(('name', 'Alvarado, Ludmila Del Milagro'), ('section', 'D'), ('dob', '06/09/2006'))\n",
            "(('name', 'Angel, Camila Juliana'), ('section', 'D'), ('dob', '07/03/2007'))\n",
            "(('name', 'Arenas, Lucas Gabriel'), ('section', 'D'), ('dob', '26/06/2007'))\n",
            "(('name', 'Caseres, Maria Antonia'), ('section', 'D'), ('dob', '01/07/2006'))\n",
            "(('name', 'Castillo, Paulina Milagros'), ('section', 'D'), ('dob', '01/06/2007'))\n",
            "(('name', 'Correa Segovia, Hugo Mariano'), ('section', 'D'), ('dob', '04/12/2006'))\n",
            "(('name', 'Correa Segovia, Hugo Mariano'), ('section', 'D'), ('dob', '04/12/2006'))\n",
            "(('name', 'D Elia, Alvaro Tadeo'), ('section', 'D'), ('dob', '27/08/2006'))\n",
            "(('name', 'Flores, Victoria Agustina'), ('section', 'D'), ('dob', '12/12/2006'))\n",
            "(('name', 'Geronimo Soriano, Lizzie Amaya'), ('section', 'D'), ('dob', '20/01/2007'))\n",
            "(('name', 'Guzman, Angélica Morena'), ('section', 'D'), ('dob', '11/04/2007'))\n",
            "(('name', 'Guzman, Jazmin Esmeralda Belen'), ('section', 'D'), ('dob', '31/07/2006'))\n",
            "(('name', 'Jaime, Anita Maria Belen'), ('section', 'D'), ('dob', '19/04/2007'))\n",
            "(('name', 'Lacour Polo, Nazarena'), ('section', 'D'), ('dob', '19/12/2005'))\n",
            "(('name', 'Lascano Guanca, Marcelo Fabricio'), ('section', 'D'), ('dob', '17/02/2006'))\n",
            "(('name', 'Lezcano, Celia Morena'), ('section', 'D'), ('dob', '01/07/2005'))\n",
            "(('name', 'Martinez, Tomas Andres'), ('section', 'D'), ('dob', '22/03/2007'))\n",
            "(('name', 'Portella Valdivia, Pedro Francisco'), ('section', 'D'), ('dob', '24/01/2007'))\n",
            "(('name', 'Retamal Cisneros, Zacarias Josue'), ('section', 'D'), ('dob', '24/02/2007'))\n",
            "(('name', 'Rosales, Francisco Gabriel'), ('section', 'D'), ('dob', '14/11/2006'))\n",
            "(('name', 'Salem Barba, Mahia'), ('section', 'D'), ('dob', '14/10/2005'))\n",
            "(('name', 'Soto Camara, Agustin Ignacio'), ('section', 'D'), ('dob', '07/11/2005'))\n",
            "(('name', 'Villalba, Irina'), ('section', 'D'), ('dob', '09/09/2006'))\n",
            "(('name', 'Voltolini, Emanuel Tobias'), ('section', 'D'), ('dob', '17/09/2006'))\n",
            "(('name', 'Zalazar, Santino Stefano'), ('section', 'D'), ('dob', '30/09/2006'))\n",
            "(('name', 'Zalazar, Santino Stefano'), ('section', 'D'), ('dob', '30/09/2006'))\n"
          ]
        }
      ]
    },
    {
      "cell_type": "markdown",
      "source": [
        "2. Crea un conjunto de nombres y otro de apellidos para 5C y  para 5D.\n",
        "- Muestra los conjuntos generados\n",
        "\n",
        "> recordá que los conjuntos solo pueden almacenar datos inmutables"
      ],
      "metadata": {
        "id": "dYEGkYZyLy9I"
      }
    },
    {
      "cell_type": "code",
      "source": [
        "nombres5C=set()\n",
        "apellidos5C=set()\n",
        "nombres5D=set()\n",
        "apellidos5D=set()\n",
        "#aca hago desempaqueto el diccionario\n",
        "for estudiante in estudiantes:\n",
        "  nombre_completo=estudiante[\"name\"].split(\",\")\n",
        "  apellidos=nombre_completo[0].split()\n",
        "  nombres=nombre_completo[1].split(\" \")\n",
        "#en la teoria q mando para añadir elementos a un conjunto es add no extend\n",
        "  if estudiante[\"section\"]==\"C\":\n",
        "    for apellido in apellidos:\n",
        "      apellidos5C.add(apellido)\n",
        "#HAGO FOR PORQ HAY MAS DE 1 NOMBRE Y SE VUELVE UNA  LIST\n",
        "    for nombre in nombres:\n",
        "      nombres5C.add(nombre)\n",
        "  elif estudiante[\"section\"]==\"D\":\n",
        "    for apellido in apellidos:\n",
        "      apellidos5D.add(apellido)\n",
        "    for nombre in nombres:\n",
        "      nombres5D.add(nombre)\n",
        "print(\"5c nombres\", nombres5C)\n",
        "print(\"5c apellidos\", apellidos5C)\n",
        "print(\"5d nombres\", nombres5D)\n",
        "print(\"5d apellidos\", apellidos5D)\n",
        "#vi que ahora los repetidos son eliminados por el set como zalasar"
      ],
      "metadata": {
        "id": "5hVrzFPgxs_E",
        "colab": {
          "base_uri": "https://localhost:8080/"
        },
        "outputId": "9d4e0b9b-838d-4660-8354-2018cb468696"
      },
      "execution_count": 3,
      "outputs": [
        {
          "output_type": "stream",
          "name": "stdout",
          "text": [
            "5c nombres {'', 'Maitena', 'Ignacio', 'Milena', 'Lucia', 'Antonella', 'Del', 'Agustín', 'Renato', 'Lucas', 'Santino', 'Agustina', 'Octavio', 'Ismael', 'Matias', 'Victoria', 'Valle', 'Constanza', 'Martin', 'Lourdes', 'Mariel', 'Agostina', 'Alondra', 'Katya', 'Ezequiel', 'Elizabeth', 'Josue', 'Nahuel', 'Martina', 'Gabriel', 'Tiara', 'Zoe', 'Magali', 'Sara', 'Valentino', 'Nicolas', 'Mia', 'Dulce', 'Yamila', 'Mauricio', 'Karim', 'Joaquin', 'Luana', 'Vitto', 'Lautaro', 'Abril', 'Matías', 'Micaela', 'Salvador', 'Leonardo', 'Marcelo', 'Rosario', 'Ariana', 'Luna', 'Tomasso'}\n",
            "5c apellidos {'Barrera', 'Messina', 'Garrido', 'Sanchez', 'Flores', 'Rios', 'Rasuk', 'Bracamonte', 'Colque', 'Barrozo', 'Araoz', 'Vilte', 'Guanca', 'Galvan', 'Figueroa', 'Diaz', 'Grancara', 'Abud', 'Dagum', 'Martinez', 'Giangreco', 'Sierra', 'Gallo', 'Merluzzi', 'Mamani', 'Tapia', 'Scarano', 'Lopez', 'Bettinelli', 'Cardozo', 'Laspiur', 'Argañaraz', 'Virgillito', 'Amador', 'Rivero', 'Marinaro', 'Vedia', 'Anaquin'}\n",
            "5d nombres {'', 'Zacarias', 'Stefania', 'Francisco', 'Ignacio', 'Angélica', 'Milagros', 'Nazarena', 'Del', 'Lucas', 'Agustin', 'Agustina', 'Santino', 'Maria', 'Victoria', 'Milagro', 'Antonia', 'Tomas', 'Alvaro', 'Fabricio', 'Anita', 'Mariano', 'Tadeo', 'Josue', 'Irina', 'Emanuel', 'Paulina', 'Andres', 'Gabriel', 'Lizzie', 'Celia', 'Mahia', 'Stefano', 'Ludmila', 'Belen', 'Pedro', 'Hugo', 'Solange', 'Esmeralda', 'Juliana', 'Jazmin', 'Marcelo', 'Tobias', 'Camila', 'Amaya', 'Morena'}\n",
            "5d apellidos {'Lascano', 'Voltolini', 'Flores', 'Zalazar', 'Soto', 'Caseres', 'Guzman', 'Salem', 'D', 'Angel', 'Guanca', 'Soriano', 'Valdivia', 'Geronimo', 'Cisneros', 'Lacour', 'Martinez', 'Camara', 'Alurralde', 'Barba', 'Segovia', 'Elia', 'Villalba', 'Jaime', 'Castillo', 'Polo', 'Retamal', 'Alvarado', 'Portella', 'Lezcano', 'Rosales', 'Correa', 'Arenas'}\n"
          ]
        }
      ]
    },
    {
      "cell_type": "markdown",
      "source": [
        "3. Muestra cuantos nombres únicos hay en cada curso."
      ],
      "metadata": {
        "id": "UW2dlBsGMAte"
      }
    },
    {
      "cell_type": "code",
      "source": [
        "#apellido por las dudas\n",
        "conteo_nombres5D=[]\n",
        "conteo_apellidos5D=[]\n",
        "conteo_nombres5C=[]\n",
        "conteo_apellidos5C=[]\n",
        "for estudiante in estudiantes:\n",
        "  nombre_completo=estudiante[\"name\"].split(\",\")\n",
        "  apellido=nombre_completo[0]\n",
        "  nombres=nombre_completo[1].split(\" \")\n",
        "  if estudiante[\"section\"]==\"C\":\n",
        "    conteo_apellidos5C.add(apellido)\n",
        "    for nombre in nombres:\n",
        "      conteo_nombres5C.add(nombre)\n",
        "  elif estudiante[\"section\"]==\"D\":\n",
        "    conteo_apellidos5D.add(apellido)\n",
        "    for nombre in nombres:\n",
        "      conteo_nombres5D.add(nombre)\n",
        "  for conteo in conteo_nombres5C:\n",
        "    if conteo in conteo_nombres5C:\n",
        "      conteo+=1\n",
        "    else:\n",
        "      conteo=1\n",
        "\n",
        "  print(conteo)"
      ],
      "metadata": {
        "id": "EawAy4SANtkl",
        "colab": {
          "base_uri": "https://localhost:8080/",
          "height": 211
        },
        "outputId": "d75bd49f-1de7-46f9-e797-9b60f2efef5f"
      },
      "execution_count": 4,
      "outputs": [
        {
          "output_type": "error",
          "ename": "AttributeError",
          "evalue": "'list' object has no attribute 'add'",
          "traceback": [
            "\u001b[0;31m---------------------------------------------------------------------------\u001b[0m",
            "\u001b[0;31mAttributeError\u001b[0m                            Traceback (most recent call last)",
            "\u001b[0;32m<ipython-input-4-9f1db2db3bb1>\u001b[0m in \u001b[0;36m<cell line: 6>\u001b[0;34m()\u001b[0m\n\u001b[1;32m      9\u001b[0m   \u001b[0mnombres\u001b[0m\u001b[0;34m=\u001b[0m\u001b[0mnombre_completo\u001b[0m\u001b[0;34m[\u001b[0m\u001b[0;36m1\u001b[0m\u001b[0;34m]\u001b[0m\u001b[0;34m.\u001b[0m\u001b[0msplit\u001b[0m\u001b[0;34m(\u001b[0m\u001b[0;34m\" \"\u001b[0m\u001b[0;34m)\u001b[0m\u001b[0;34m\u001b[0m\u001b[0;34m\u001b[0m\u001b[0m\n\u001b[1;32m     10\u001b[0m   \u001b[0;32mif\u001b[0m \u001b[0mestudiante\u001b[0m\u001b[0;34m[\u001b[0m\u001b[0;34m\"section\"\u001b[0m\u001b[0;34m]\u001b[0m\u001b[0;34m==\u001b[0m\u001b[0;34m\"C\"\u001b[0m\u001b[0;34m:\u001b[0m\u001b[0;34m\u001b[0m\u001b[0;34m\u001b[0m\u001b[0m\n\u001b[0;32m---> 11\u001b[0;31m     \u001b[0mconteo_apellidos5C\u001b[0m\u001b[0;34m.\u001b[0m\u001b[0madd\u001b[0m\u001b[0;34m(\u001b[0m\u001b[0mapellido\u001b[0m\u001b[0;34m)\u001b[0m\u001b[0;34m\u001b[0m\u001b[0;34m\u001b[0m\u001b[0m\n\u001b[0m\u001b[1;32m     12\u001b[0m     \u001b[0;32mfor\u001b[0m \u001b[0mnombre\u001b[0m \u001b[0;32min\u001b[0m \u001b[0mnombres\u001b[0m\u001b[0;34m:\u001b[0m\u001b[0;34m\u001b[0m\u001b[0;34m\u001b[0m\u001b[0m\n\u001b[1;32m     13\u001b[0m       \u001b[0mconteo_nombres5C\u001b[0m\u001b[0;34m.\u001b[0m\u001b[0madd\u001b[0m\u001b[0;34m(\u001b[0m\u001b[0mnombre\u001b[0m\u001b[0;34m)\u001b[0m\u001b[0;34m\u001b[0m\u001b[0;34m\u001b[0m\u001b[0m\n",
            "\u001b[0;31mAttributeError\u001b[0m: 'list' object has no attribute 'add'"
          ]
        }
      ]
    },
    {
      "cell_type": "code",
      "source": [
        "conteo_nombres5D=dict()\n",
        "conteo_apellidos5D=dict()\n",
        "conteo_nombres5C=dict()\n",
        "conteo_apellidos5C=dict()\n",
        "for nombre in nombres5D:\n",
        "  if nombre in conteo_nombres5D:\n",
        "    conteo_nombres5D.update({nombre:conteo_nombres5D[nombre]+1})\n",
        "  else:\n",
        "    conteo_nombres5D[nombre]=1\n",
        "for nombre in nombres5C:\n",
        "  if nombre in conteo_nombres5C:\n",
        "    conteo_nombres5C.update({nombre:conteo_nombres5C[nombre]+1})\n",
        "  else:\n",
        "    conteo_nombres5C[nombre]=1\n",
        "\n",
        "print(conteo_nombres5C)"
      ],
      "metadata": {
        "id": "2f2zyteUgJOq",
        "outputId": "b598c3fe-224f-4b3f-8ded-1f91bf7f022c",
        "colab": {
          "base_uri": "https://localhost:8080/"
        }
      },
      "execution_count": 5,
      "outputs": [
        {
          "output_type": "stream",
          "name": "stdout",
          "text": [
            "{'': 1, 'Maitena': 1, 'Ignacio': 1, 'Milena': 1, 'Lucia': 1, 'Antonella': 1, 'Del': 1, 'Agustín': 1, 'Renato': 1, 'Lucas': 1, 'Santino': 1, 'Agustina': 1, 'Octavio': 1, 'Ismael': 1, 'Matias': 1, 'Victoria': 1, 'Valle': 1, 'Constanza': 1, 'Martin': 1, 'Lourdes': 1, 'Mariel': 1, 'Agostina': 1, 'Alondra': 1, 'Katya': 1, 'Ezequiel': 1, 'Elizabeth': 1, 'Josue': 1, 'Nahuel': 1, 'Martina': 1, 'Gabriel': 1, 'Tiara': 1, 'Zoe': 1, 'Magali': 1, 'Sara': 1, 'Valentino': 1, 'Nicolas': 1, 'Mia': 1, 'Dulce': 1, 'Yamila': 1, 'Mauricio': 1, 'Karim': 1, 'Joaquin': 1, 'Luana': 1, 'Vitto': 1, 'Lautaro': 1, 'Abril': 1, 'Matías': 1, 'Micaela': 1, 'Salvador': 1, 'Leonardo': 1, 'Marcelo': 1, 'Rosario': 1, 'Ariana': 1, 'Luna': 1, 'Tomasso': 1}\n"
          ]
        }
      ]
    },
    {
      "cell_type": "code",
      "source": [
        "todos_los_nombres=nombres5C.union(nombres5D)\n",
        "print(f\"los nombres unicos son len{todos_los_nombres}\")"
      ],
      "metadata": {
        "id": "E0elGbgLC-nK",
        "outputId": "7ea05078-09e1-4946-9ef5-b3910988dbc7",
        "colab": {
          "base_uri": "https://localhost:8080/"
        }
      },
      "execution_count": 6,
      "outputs": [
        {
          "output_type": "stream",
          "name": "stdout",
          "text": [
            "los nombres unicos son len{'', 'Milena', 'Francisco', 'Angélica', 'Del', 'Agustín', 'Lucas', 'Santino', 'Octavio', 'Victoria', 'Martin', 'Valle', 'Antonia', 'Lourdes', 'Mariel', 'Alvaro', 'Alondra', 'Anita', 'Ezequiel', 'Irina', 'Emanuel', 'Nahuel', 'Martina', 'Paulina', 'Gabriel', 'Tiara', 'Lizzie', 'Zoe', 'Celia', 'Sara', 'Dulce', 'Yamila', 'Solange', 'Karim', 'Lautaro', 'Salvador', 'Jazmin', 'Leonardo', 'Rosario', 'Camila', 'Ariana', 'Morena', 'Luna', 'Zacarias', 'Maitena', 'Ignacio', 'Stefania', 'Lucia', 'Antonella', 'Milagros', 'Nazarena', 'Renato', 'Agustin', 'Agustina', 'Ismael', 'Maria', 'Matias', 'Milagro', 'Constanza', 'Tomas', 'Fabricio', 'Agostina', 'Katya', 'Mariano', 'Tadeo', 'Elizabeth', 'Josue', 'Andres', 'Magali', 'Mahia', 'Stefano', 'Ludmila', 'Belen', 'Valentino', 'Nicolas', 'Pedro', 'Mia', 'Hugo', 'Esmeralda', 'Mauricio', 'Juliana', 'Joaquin', 'Luana', 'Vitto', 'Abril', 'Matías', 'Micaela', 'Marcelo', 'Tobias', 'Amaya', 'Tomasso'}\n"
          ]
        }
      ]
    },
    {
      "cell_type": "markdown",
      "source": [
        "4. Muestra cuantos apellidos únicos hay en cada curso."
      ],
      "metadata": {
        "id": "kZeEHUYVNwGV"
      }
    },
    {
      "cell_type": "code",
      "source": [
        "#que bueno que lo hice por las dudas\n",
        "for apellido in apellidos5D:\n",
        "  if apellido in conteo_apellidos5D:\n",
        "    conteo_apellidos5D.update({apellido:conteo_apellidos5D[apellido]+1})\n",
        "  else:\n",
        "    conteo_apellidos5D[apellido]=1\n",
        "for apellido in apellidos5C:\n",
        "  if apellido in conteo_apellidos5C:\n",
        "    conteo_apellidos5C.update({apellido:conteo_apellidos5C[apellido]+1})\n",
        "  else:\n",
        "    conteo_apellidos5C[apellido]=1\n",
        "\n",
        "print(conteo_apellidos5D)\n",
        "print(conteo_apellidos5C)"
      ],
      "metadata": {
        "id": "q05GnxXgORzt",
        "colab": {
          "base_uri": "https://localhost:8080/"
        },
        "outputId": "8d2165b5-255f-4b39-8f67-71a1c845dba5"
      },
      "execution_count": 7,
      "outputs": [
        {
          "output_type": "stream",
          "name": "stdout",
          "text": [
            "{'Lascano': 1, 'Voltolini': 1, 'Flores': 1, 'Zalazar': 1, 'Soto': 1, 'Caseres': 1, 'Guzman': 1, 'Salem': 1, 'D': 1, 'Angel': 1, 'Guanca': 1, 'Soriano': 1, 'Valdivia': 1, 'Geronimo': 1, 'Cisneros': 1, 'Lacour': 1, 'Martinez': 1, 'Camara': 1, 'Alurralde': 1, 'Barba': 1, 'Segovia': 1, 'Elia': 1, 'Villalba': 1, 'Jaime': 1, 'Castillo': 1, 'Polo': 1, 'Retamal': 1, 'Alvarado': 1, 'Portella': 1, 'Lezcano': 1, 'Rosales': 1, 'Correa': 1, 'Arenas': 1}\n",
            "{'Barrera': 1, 'Messina': 1, 'Garrido': 1, 'Sanchez': 1, 'Flores': 1, 'Rios': 1, 'Rasuk': 1, 'Bracamonte': 1, 'Colque': 1, 'Barrozo': 1, 'Araoz': 1, 'Vilte': 1, 'Guanca': 1, 'Galvan': 1, 'Figueroa': 1, 'Diaz': 1, 'Grancara': 1, 'Abud': 1, 'Dagum': 1, 'Martinez': 1, 'Giangreco': 1, 'Sierra': 1, 'Gallo': 1, 'Merluzzi': 1, 'Mamani': 1, 'Tapia': 1, 'Scarano': 1, 'Lopez': 1, 'Bettinelli': 1, 'Cardozo': 1, 'Laspiur': 1, 'Argañaraz': 1, 'Virgillito': 1, 'Amador': 1, 'Rivero': 1, 'Marinaro': 1, 'Vedia': 1, 'Anaquin': 1}\n"
          ]
        }
      ]
    },
    {
      "cell_type": "code",
      "source": [
        "#ahora bien hecho con metodo union HECHO EN CLASE\n",
        "todos_los_apellidoss=apellidos5D.union(apellidos5C)\n",
        "print(f\"apellidos unicos {todos_los_apellidoss}\")"
      ],
      "metadata": {
        "id": "24DEmV90EOKs",
        "outputId": "cfa6b927-ddac-4fd7-d310-6a63772897c7",
        "colab": {
          "base_uri": "https://localhost:8080/"
        }
      },
      "execution_count": 8,
      "outputs": [
        {
          "output_type": "stream",
          "name": "stdout",
          "text": [
            "apellidos unicos {'Lascano', 'Barrera', 'Messina', 'Garrido', 'Voltolini', 'Sanchez', 'Flores', 'Rios', 'Rasuk', 'Zalazar', 'Bracamonte', 'Soto', 'Caseres', 'Guzman', 'Colque', 'Salem', 'Barrozo', 'Araoz', 'D', 'Vilte', 'Angel', 'Guanca', 'Soriano', 'Galvan', 'Figueroa', 'Diaz', 'Valdivia', 'Grancara', 'Abud', 'Dagum', 'Geronimo', 'Cisneros', 'Lacour', 'Martinez', 'Camara', 'Alurralde', 'Giangreco', 'Sierra', 'Gallo', 'Merluzzi', 'Barba', 'Mamani', 'Tapia', 'Scarano', 'Segovia', 'Lopez', 'Bettinelli', 'Elia', 'Villalba', 'Cardozo', 'Laspiur', 'Jaime', 'Argañaraz', 'Castillo', 'Polo', 'Retamal', 'Alvarado', 'Portella', 'Virgillito', 'Vedia', 'Amador', 'Lezcano', 'Rosales', 'Correa', 'Rivero', 'Arenas', 'Marinaro', 'Anaquin'}\n"
          ]
        }
      ]
    },
    {
      "cell_type": "markdown",
      "source": [
        "5. Mostrá los nombres que se aparecen em ambos cursos"
      ],
      "metadata": {
        "id": "ywYmA2JQNp3T"
      }
    },
    {
      "cell_type": "code",
      "source": [
        "ambos_cursos = nombres5C.intersection(nombres5D)\n",
        "print(f\"nombres que aparecenn{ambos_cursos}\")"
      ],
      "metadata": {
        "id": "Cnp334ZrOCjK",
        "colab": {
          "base_uri": "https://localhost:8080/"
        },
        "outputId": "e130340c-2a83-48cd-dab0-905da22663a3"
      },
      "execution_count": 9,
      "outputs": [
        {
          "output_type": "stream",
          "name": "stdout",
          "text": [
            "nombres que aparecenn{'', 'Gabriel', 'Ignacio', 'Marcelo', 'Del', 'Lucas', 'Josue', 'Santino', 'Agustina', 'Victoria'}\n"
          ]
        }
      ]
    },
    {
      "cell_type": "markdown",
      "source": [
        "6. Mostrá los apellidos que se aparecen en ambos cursos"
      ],
      "metadata": {
        "id": "iAXts6saODoU"
      }
    },
    {
      "cell_type": "code",
      "source": [
        "ambos_cursos2 = apellidos5C.intersection(apellidos5D)\n",
        "print(f\"appellidos que aparecenn{ambos_cursos2}\")"
      ],
      "metadata": {
        "id": "FMRsUlvtOJS_",
        "colab": {
          "base_uri": "https://localhost:8080/"
        },
        "outputId": "3abd1334-10d4-4e74-bec7-39720452b242"
      },
      "execution_count": null,
      "outputs": [
        {
          "output_type": "stream",
          "name": "stdout",
          "text": [
            "appellidos que aparecennset()\n"
          ]
        }
      ]
    },
    {
      "cell_type": "code",
      "source": [
        "#NO FUNCIONA EL QUE YO HICE y el de gemini tampoco\n",
        "\n",
        "ambos_apellidos = apellidos5C.intersection(apellidos5D)\n",
        "print(f\"Apellidos que aparecen en ambos cursos: {ambos_apellidos}\")"
      ],
      "metadata": {
        "id": "shgvy23NkzTy",
        "outputId": "0f69cb97-93ec-43ff-91f3-23d864093ddf",
        "colab": {
          "base_uri": "https://localhost:8080/"
        }
      },
      "execution_count": null,
      "outputs": [
        {
          "output_type": "stream",
          "name": "stdout",
          "text": [
            "Apellidos que aparecen en ambos cursos: set()\n"
          ]
        }
      ]
    },
    {
      "cell_type": "markdown",
      "source": [
        "7. Mostrá los nombres de los estudiantes de 5C que no existen en 5D y viceversa."
      ],
      "metadata": {
        "id": "T4PFiwwdOK27"
      }
    },
    {
      "cell_type": "code",
      "source": [
        "\n",
        "nombres_5C_no_en_5D = nombres5C.difference(nombres5D)\n",
        "nombres_5D_no_en_5C = nombres5D.difference(nombres5C)\n",
        "\n",
        "print(f\"Nombres de 5C que no están en 5D: {nombres_5C_no_en_5D}\")\n",
        "print(f\"Nombres de 5D que no están en 5C: {nombres_5D_no_en_5C}\")\n"
      ],
      "metadata": {
        "id": "3BUwnYS9lQ4R",
        "outputId": "4f4663e4-6938-4e61-e80e-998ae02b4eb7",
        "colab": {
          "base_uri": "https://localhost:8080/"
        }
      },
      "execution_count": 10,
      "outputs": [
        {
          "output_type": "stream",
          "name": "stdout",
          "text": [
            "Nombres de 5C que no están en 5D: {'Lucia', 'Tomasso', 'Salvador', 'Constanza', 'Ismael', 'Abril', 'Mauricio', 'Mariel', 'Octavio', 'Magali', 'Lautaro', 'Martin', 'Katya', 'Dulce', 'Nicolas', 'Ariana', 'Yamila', 'Sara', 'Renato', 'Matías', 'Ezequiel', 'Leonardo', 'Zoe', 'Lourdes', 'Agostina', 'Matias', 'Micaela', 'Mia', 'Nahuel', 'Agustín', 'Valle', 'Luana', 'Luna', 'Milena', 'Rosario', 'Vitto', 'Karim', 'Tiara', 'Alondra', 'Martina', 'Elizabeth', 'Joaquin', 'Valentino', 'Maitena', 'Antonella'}\n",
            "Nombres de 5D que no están en 5C: {'Pedro', 'Celia', 'Anita', 'Irina', 'Antonia', 'Solange', 'Mariano', 'Amaya', 'Jazmin', 'Morena', 'Mahia', 'Nazarena', 'Milagro', 'Tomas', 'Zacarias', 'Emanuel', 'Ludmila', 'Stefano', 'Agustin', 'Alvaro', 'Stefania', 'Maria', 'Milagros', 'Lizzie', 'Angélica', 'Francisco', 'Tobias', 'Paulina', 'Fabricio', 'Hugo', 'Juliana', 'Tadeo', 'Esmeralda', 'Andres', 'Camila', 'Belen'}\n"
          ]
        }
      ]
    },
    {
      "cell_type": "markdown",
      "source": [
        "8. Mostrá los apellidos de los estudiantes de 5C que no existen en 5D y viceversa.\n"
      ],
      "metadata": {
        "id": "xfy8SFlZRVGf"
      }
    },
    {
      "cell_type": "code",
      "source": [
        "apellidos_5C_no_en_5D = apellidos5C.difference(apellidos5D)\n",
        "apellidos_5D_no_en_5C = apellidos5D.difference(apellidos5C)\n",
        "\n",
        "print(f\"Apellidos de 5C que no están en 5D: {apellidos_5C_no_en_5D}\")\n",
        "print(f\"Apellidos de 5D que no están en 5C: {apellidos_5D_no_en_5C}\")\n"
      ],
      "metadata": {
        "id": "E4Onk1FNRUa2",
        "outputId": "7ddf0539-9d84-4f6b-b8da-ce601bcc88df",
        "colab": {
          "base_uri": "https://localhost:8080/"
        }
      },
      "execution_count": 11,
      "outputs": [
        {
          "output_type": "stream",
          "name": "stdout",
          "text": [
            "Apellidos de 5C que no están en 5D: {'Barrozo', 'Figueroa', 'Rios', 'Bettinelli', 'Giangreco', 'Vilte', 'Garrido', 'Amador', 'Gallo', 'Messina', 'Marinaro', 'Bracamonte', 'Tapia', 'Anaquin', 'Grancara', 'Diaz', 'Merluzzi', 'Rivero', 'Araoz', 'Rasuk', 'Virgillito', 'Lopez', 'Sanchez', 'Vedia', 'Barrera', 'Mamani', 'Sierra', 'Dagum', 'Abud', 'Galvan', 'Cardozo', 'Scarano', 'Laspiur', 'Argañaraz', 'Colque'}\n",
            "Apellidos de 5D que no están en 5C: {'Correa', 'Camara', 'Soriano', 'Geronimo', 'Caseres', 'Jaime', 'Barba', 'Arenas', 'Rosales', 'Portella', 'D', 'Villalba', 'Lascano', 'Alurralde', 'Salem', 'Castillo', 'Angel', 'Alvarado', 'Segovia', 'Lacour', 'Lezcano', 'Valdivia', 'Retamal', 'Guzman', 'Polo', 'Voltolini', 'Elia', 'Cisneros', 'Soto', 'Zalazar'}\n"
          ]
        }
      ]
    },
    {
      "cell_type": "markdown",
      "source": [
        "9. Mostrá todos los nombres, menos aquellos que existen en ambos cursos.\n",
        "\n",
        "> Agregar bloque entrecomillado\n",
        "\n",
        "\n"
      ],
      "metadata": {
        "id": "lW18NgPjRcGP"
      }
    },
    {
      "cell_type": "code",
      "source": [
        "\n",
        "todos_los_nombres = nombres5C.union(nombres5D)\n",
        "nombres_en_ambos_cursos = nombres5C.intersection(nombres5D)\n",
        "nombres_unicos = todos_los_nombres.difference(nombres_en_ambos_cursos)\n",
        "\n",
        "print(f\"Todos los nombres, menos los que existen en ambos cursos: {nombres_unicos}\")\n"
      ],
      "metadata": {
        "id": "jTtWBnalRcoC",
        "outputId": "ab2521af-1ea9-49bf-f996-ad91d5b39231",
        "colab": {
          "base_uri": "https://localhost:8080/"
        }
      },
      "execution_count": 12,
      "outputs": [
        {
          "output_type": "stream",
          "name": "stdout",
          "text": [
            "Todos los nombres, menos los que existen en ambos cursos: {'Constanza', 'Abril', 'Mauricio', 'Irina', 'Mariel', 'Mariano', 'Magali', 'Amaya', 'Jazmin', 'Mahia', 'Katya', 'Dulce', 'Nazarena', 'Milagro', 'Ludmila', 'Renato', 'Stefano', 'Ezequiel', 'Leonardo', 'Alvaro', 'Stefania', 'Maria', 'Milagros', 'Lourdes', 'Lizzie', 'Angélica', 'Francisco', 'Matias', 'Micaela', 'Nahuel', 'Luna', 'Luana', 'Paulina', 'Hugo', 'Vitto', 'Alondra', 'Martina', 'Elizabeth', 'Andres', 'Valentino', 'Camila', 'Antonella', 'Lucia', 'Salvador', 'Tomasso', 'Pedro', 'Ismael', 'Anita', 'Celia', 'Octavio', 'Antonia', 'Solange', 'Lautaro', 'Morena', 'Martin', 'Nicolas', 'Tomas', 'Ariana', 'Zacarias', 'Yamila', 'Emanuel', 'Sara', 'Matías', 'Agustin', 'Zoe', 'Agostina', 'Mia', 'Tobias', 'Agustín', 'Valle', 'Milena', 'Fabricio', 'Juliana', 'Rosario', 'Karim', 'Tadeo', 'Tiara', 'Esmeralda', 'Joaquin', 'Maitena', 'Belen'}\n"
          ]
        }
      ]
    },
    {
      "cell_type": "markdown",
      "source": [
        "10. elimina tu nombre del conjunto al que pertenece"
      ],
      "metadata": {
        "id": "E24lH7x5Xbur"
      }
    },
    {
      "cell_type": "code",
      "source": [
        "\n",
        "nombres5D.discard(\"Lucas\")\n",
        "nombres5D.discard(\"Gabriel\")\n",
        "print(nombres5D)\n"
      ],
      "metadata": {
        "id": "9SeI3GBGXims",
        "outputId": "73df5840-9fc6-4552-851e-d5df1c4ec8ad",
        "colab": {
          "base_uri": "https://localhost:8080/"
        }
      },
      "execution_count": 13,
      "outputs": [
        {
          "output_type": "stream",
          "name": "stdout",
          "text": [
            "{'', 'Pedro', 'Anita', 'Celia', 'Irina', 'Antonia', 'Solange', 'Mariano', 'Josue', 'Amaya', 'Jazmin', 'Morena', 'Mahia', 'Del', 'Victoria', 'Nazarena', 'Milagro', 'Tomas', 'Zacarias', 'Agustina', 'Emanuel', 'Santino', 'Ludmila', 'Stefano', 'Ignacio', 'Agustin', 'Alvaro', 'Stefania', 'Maria', 'Milagros', 'Lizzie', 'Angélica', 'Francisco', 'Tobias', 'Paulina', 'Fabricio', 'Hugo', 'Juliana', 'Marcelo', 'Tadeo', 'Esmeralda', 'Andres', 'Camila', 'Belen'}\n"
          ]
        }
      ]
    },
    {
      "cell_type": "markdown",
      "source": [
        "11. Solicita al usuario un nombre y un apellido y agregalos a los correspondientes conjuntos de tu curso.\n",
        "\n",
        "\n",
        "\n"
      ],
      "metadata": {
        "id": "vOY6K_ydRc3Q"
      }
    },
    {
      "cell_type": "code",
      "source": [
        "\n",
        "nombre = input(\"Ingrese un nombre: \")\n",
        "apellido = input(\"Ingrese un apellido: \")\n",
        "\n",
        "nombres5D.add(nombre)\n",
        "apellidos5D.add(apellido)\n",
        "\n",
        "print(f\"Conjuntos actualizados:\\nNombres 5D: {nombres5D}\\nApellidos 5D: {apellidos5D}\")\n"
      ],
      "metadata": {
        "id": "9JDrd3WqRdTi",
        "outputId": "177107f9-12cc-4bb7-ffd8-63a69848f3a3",
        "colab": {
          "base_uri": "https://localhost:8080/"
        }
      },
      "execution_count": 14,
      "outputs": [
        {
          "output_type": "stream",
          "name": "stdout",
          "text": [
            "Ingrese un nombre: Toilet Sigma\n",
            "Ingrese un apellido: Gigachad\n",
            "Conjuntos actualizados:\n",
            "Nombres 5D: {'', 'Pedro', 'Anita', 'Celia', 'Irina', 'Antonia', 'Solange', 'Mariano', 'Josue', 'Toilet Sigma', 'Amaya', 'Jazmin', 'Morena', 'Mahia', 'Del', 'Victoria', 'Nazarena', 'Milagro', 'Tomas', 'Zacarias', 'Agustina', 'Emanuel', 'Santino', 'Ludmila', 'Stefano', 'Ignacio', 'Agustin', 'Alvaro', 'Stefania', 'Maria', 'Milagros', 'Lizzie', 'Angélica', 'Francisco', 'Tobias', 'Paulina', 'Fabricio', 'Hugo', 'Juliana', 'Marcelo', 'Tadeo', 'Esmeralda', 'Andres', 'Camila', 'Belen'}\n",
            "Apellidos 5D: {'Correa', 'Camara', 'Soriano', 'Geronimo', 'Caseres', 'Jaime', 'Barba', 'Arenas', 'Rosales', 'Portella', 'D', 'Villalba', 'Lascano', 'Alurralde', 'Salem', 'Castillo', 'Angel', 'Alvarado', 'Segovia', 'Lacour', 'Lezcano', 'Flores', 'Valdivia', 'Guanca', 'Gigachad', 'Retamal', 'Martinez', 'Guzman', 'Polo', 'Voltolini', 'Elia', 'Cisneros', 'Soto', 'Zalazar'}\n"
          ]
        }
      ]
    },
    {
      "cell_type": "markdown",
      "source": [
        "12. Solicita un nombre y verifica si este existe en el diccionario"
      ],
      "metadata": {
        "id": "hs1vGDrX2wHq"
      }
    },
    {
      "cell_type": "code",
      "source": [
        "\n",
        "nombre_a_buscar = input(\"Ingrese un nombre para verificar si existe: \")\n",
        "\n",
        "if nombre_a_buscar in nombres5D:\n",
        "  print(f\"El nombre {nombre_a_buscar} existe en el conjunto de nombres de 5D.\")\n",
        "else:\n",
        "  print(f\"El nombre {nombre_a_buscar} no existe en el conjunto de nombres de 5D.\")\n"
      ],
      "metadata": {
        "id": "4bbRCYWt2vDO"
      },
      "execution_count": null,
      "outputs": []
    }
  ]
}