{
  "nbformat": 4,
  "nbformat_minor": 0,
  "metadata": {
    "colab": {
      "provenance": [],
      "include_colab_link": true
    },
    "kernelspec": {
      "name": "python3",
      "display_name": "Python 3"
    },
    "language_info": {
      "name": "python"
    }
  },
  "cells": [
    {
      "cell_type": "markdown",
      "metadata": {
        "id": "view-in-github",
        "colab_type": "text"
      },
      "source": [
        "<a href=\"https://colab.research.google.com/github/lucasaree/rama76/blob/main/Diccionario_Pr%C3%A1ctica.ipynb\" target=\"_parent\"><img src=\"https://colab.research.google.com/assets/colab-badge.svg\" alt=\"Open In Colab\"/></a>"
      ]
    },
    {
      "cell_type": "code",
      "execution_count": 12,
      "metadata": {
        "id": "8VOD-zpMJovw"
      },
      "outputs": [],
      "source": [
        "# Listas de alumnos\n",
        "estudiantes_5d = [\n",
        "   (\"Alurralde, Solange Stefania\",\"D\",\"02/04/2007\"),\n",
        "   (\"Alvarado, Ludmila Del Milagro\",\"D\",\"06/09/2006\"),\n",
        "   (\"Angel, Camila Juliana\",\"D\",\"07/03/2007\"),\n",
        "   (\"Arenas, Lucas Gabriel\",\"D\",\"26/06/2007\"),\n",
        "   (\"Caseres, Maria Antonia\",\"D\",\"01/07/2006\"),\n",
        "   (\"Castillo, Paulina Milagros\",\"D\",\"01/06/2007\"),\n",
        "   (\"Correa Segovia, Hugo Mariano\",\"D\",\"04/12/2006\"),\n",
        "   (\"D Elia, Alvaro Tadeo\",\"D\",\"27/08/2006\"),\n",
        "   (\"Flores, Victoria Agustina\",\"D\",\"12/12/2006\"),\n",
        "   (\"Geronimo Soriano, Lizzie Amaya\",\"D\",\"20/01/2007\"),\n",
        "   (\"GUZMAN, ANGÉLICA MORENA\",\"D\",\"11/04/2007\"),\n",
        "   (\"Guzman, Jazmin Esmeralda Belen\",\"D\",\"31/07/2006\"),\n",
        "   (\"Jaime, Anita Maria Belen\",\"D\",\"19/04/2007\"),\n",
        "   (\"Lacour Polo, Nazarena\",\"D\",\"19/12/2005\"),\n",
        "   (\"Lascano Guanca, Marcelo Fabricio\",\"D\",\"17/02/2006\"),\n",
        "   (\"Lezcano, Celia Morena\",\"D\",\"01/07/2005\"),\n",
        "   (\"Martinez, Tomas Andres\",\"D\",\"22/03/2007\"),\n",
        "   (\"PORTELLA VALDIVIA, PEDRO FRANCISCO\",\"D\",\"24/01/2007\"),\n",
        "   (\"Retamal Cisneros, Zacarias Josue\",\"D\",\"24/02/2007\"),\n",
        "   (\"Rosales, Francisco Gabriel\",\"D\",\"14/11/2006\"),\n",
        "   (\"Salem Barba, Mahia\",\"D\",\"14/10/2005\"),\n",
        "   (\"Soto Camara, Agustin Ignacio\",\"D\",\"07/11/2005\"),\n",
        "   (\"Villalba, Irina\",\"D\",\"09/09/2006\"),\n",
        "   (\"Voltolini, Emanuel Tobias\",\"D\",\"17/09/2006\"),\n",
        "   (\"Zalazar, Santino Stefano\",\"D\",\"30/09/2006\")\n",
        "]\n",
        "\n",
        "estudiantes_5c=[\n",
        "    (\"ABUD LASPIUR, LOURDES MARIEL\",\"C\",\"05/12/2006\"),\n",
        "    (\"Amador, Luana Micaela\",\"C\",\"09/12/2006\"),\n",
        "    (\"Anaquin, Leonardo Ezequiel\",\"C\",\"06/09/2005\"),\n",
        "    (\"Araoz Sanchez, Lautaro Nahuel\",\"C\",\"28/12/2005\"),\n",
        "    (\"Argañaraz, Agostina Abril\",\"C\",\"11/10/2006\"),\n",
        "    (\"Barrera, Matias Ezequiel\",\"C\",\"27/02/2007\"),\n",
        "    (\"Barrozo Vedia, Joaquin Nicolas\",\"C\",\"15/04/2006\"),\n",
        "    (\"Bettinelli, Valentino\",\"C\",\"12/07/2006\"),\n",
        "    (\"Bracamonte Martinez, Salvador\",\"C\",\"02/11/2005\"),\n",
        "    (\"Colque Rivero, Ariana Zoe Del Valle\",\"C\",\"27/12/2006\"),\n",
        "    (\"Diaz, Dulce Maitena\",\"C\",\"11/12/2006\"),\n",
        "    (\"FIGUEROA, SANTINO JOSUE\",\"C\",\"12/05/2007\"),\n",
        "    (\"Flores Cardozo, Agustina Tiara\",\"C\",\"18/03/2006\"),\n",
        "    (\"Gallo, Octavio Ismael\",\"C\",\"04/08/2006\"),\n",
        "    (\"Galvan, Lourdes Yamila\",\"C\",\"19/08/2005\"),\n",
        "    (\"Giangreco, Vitto Tomasso\",\"C\",\"21/03/2007\"),\n",
        "    (\"Grancara, Martina Luna\",\"C\",\"15/12/2006\"),\n",
        "    (\"Guanca, Sara Elizabeth\",\"C\",\"17/01/2007\"),\n",
        "    (\"Lopez, Victoria Constanza\",\"C\",\"12/11/2007\"),\n",
        "    (\"Mamani Garrido, Rosario Agostina\",\"C\",\"24/10/2006\"),\n",
        "    (\"Marinaro, Martin Ezequiel\",\"C\",\"03/11/2006\"),\n",
        "    (\"Merluzzi Dagum, Ignacio\",\"C\",\"22/12/2005\"),\n",
        "    (\"Messina, Martina\",\"C\",\"13/07/2005\"),\n",
        "    (\"RASUK, KARIM\", \"C\",\"13/07/2007\"),\n",
        "    (\"Rios, Lucia Magali\",\"C\",\"22/09/2006\"),\n",
        "    (\"Sanchez Flores, Matías Agustín\",\"C\",\"15/02/2007\"),\n",
        "    (\"Scarano, Renato Marcelo\",\"C\",\"06/12/2006\"),\n",
        "    (\"Sierra, Lucas Mauricio\",\"C\",\"03/04/2005\"),\n",
        "    (\"Tapia, Martin Gabriel\",\"C\",\"30/05/2006\"),\n",
        "    (\"Vilte, Mia Antonella Alondra\",\"C\",\"10/09/2005\"),\n",
        "    (\"Virgillito, Katya Milena\",\"C\",\"19/06/2007\")\n",
        "]"
      ]
    },
    {
      "cell_type": "markdown",
      "source": [
        "## Dada la lista estudiantes:\n",
        "> - Hacer una celda para resolver cada punto.\n",
        "- El TP resuelto será revisado en tu repositorio, no es necesario que lo envíes, pero sí que lo pushees correctamente.\n",
        "- En la nota inicial se contempla:\n",
        "  - La incorporación de este documento a tu propio respositorio.\n",
        "  - El pusheo de los cambios realizados.\n",
        "  - La resolución de los ejercicios propuestos.\n"
      ],
      "metadata": {
        "id": "rd6Ug6v3J4uN"
      }
    },
    {
      "cell_type": "markdown",
      "source": [
        "1. Reemplaza todos los valores del nombre por los que obtengas del método title(). De esta manera las listas quedaran con los datos más homogéneos."
      ],
      "metadata": {
        "id": "wRLng-uURyJ3"
      }
    },
    {
      "cell_type": "code",
      "source": [
        "#TRABAJO HECHO EN CLASE ARENAS LUCAS FRANCISCO ROSALES 5D"
      ],
      "metadata": {
        "id": "hmiMcSq6PgtK"
      },
      "execution_count": null,
      "outputs": []
    },
    {
      "cell_type": "code",
      "source": [
        "for alumno in range(len(estudiantes_5d)):\n",
        "  estudiantes_5d[alumno] = list(estudiantes_5d[alumno])\n",
        "  estudiantes_5d[alumno][0] = estudiantes_5d[alumno][0].title()\n",
        "  estudiantes_5d[alumno] = tuple(estudiantes_5d[alumno])\n",
        "print(estudiantes_5d)"
      ],
      "metadata": {
        "id": "5lFqJoTaSIWi",
        "outputId": "b6ca4257-dd40-4bd7-f92c-29a6f0fa1db2",
        "colab": {
          "base_uri": "https://localhost:8080/"
        }
      },
      "execution_count": null,
      "outputs": [
        {
          "output_type": "stream",
          "name": "stdout",
          "text": [
            "[('Alurralde, Solange Stefania', 'D', '02/04/2007'), ('Alvarado, Ludmila Del Milagro', 'D', '06/09/2006'), ('Angel, Camila Juliana', 'D', '07/03/2007'), ('Arenas, Lucas Gabriel', 'D', '26/06/2007'), ('Caseres, Maria Antonia', 'D', '01/07/2006'), ('Castillo, Paulina Milagros', 'D', '01/06/2007'), ('Correa Segovia, Hugo Mariano', 'D', '04/12/2006'), ('D Elia, Alvaro Tadeo', 'D', '27/08/2006'), ('Flores, Victoria Agustina', 'D', '12/12/2006'), ('Geronimo Soriano, Lizzie Amaya', 'D', '20/01/2007'), ('Guzman, Angélica Morena', 'D', '11/04/2007'), ('Guzman, Jazmin Esmeralda Belen', 'D', '31/07/2006'), ('Jaime, Anita Maria Belen', 'D', '19/04/2007'), ('Lacour Polo, Nazarena', 'D', '19/12/2005'), ('Lascano Guanca, Marcelo Fabricio', 'D', '17/02/2006'), ('Lezcano, Celia Morena', 'D', '01/07/2005'), ('Martinez, Tomas Andres', 'D', '22/03/2007'), ('Portella Valdivia, Pedro Francisco', 'D', '24/01/2007'), ('Retamal Cisneros, Zacarias Josue', 'D', '24/02/2007'), ('Rosales, Francisco Gabriel', 'D', '14/11/2006'), ('Salem Barba, Mahia', 'D', '14/10/2005'), ('Soto Camara, Agustin Ignacio', 'D', '07/11/2005'), ('Villalba, Irina', 'D', '09/09/2006'), ('Voltolini, Emanuel Tobias', 'D', '17/09/2006'), ('Zalazar, Santino Stefano', 'D', '30/09/2006')]\n"
          ]
        }
      ]
    },
    {
      "cell_type": "code",
      "source": [
        "estudiantes=[]\n",
        "estudiantes.extend(estudiantes_5d)\n",
        "estudiantes.extend(estudiantes_5c)\n",
        "for i in range(len(estudiantes)):\n",
        "  nombre_apellido, division, fecha_nacimiento= estudiantes[i]\n",
        "  nombre_apellido=nombre_apellido.title()\n",
        "  estudiantes[i]= nombre_apellido, division, fecha_nacimiento\n",
        "for estudiante in estudiantes:\n",
        "  print(estudiante)"
      ],
      "metadata": {
        "id": "-x5D5Cht7mX0",
        "outputId": "584507d7-2ee7-4cf1-b6ec-7e45fb9889c1",
        "colab": {
          "base_uri": "https://localhost:8080/"
        }
      },
      "execution_count": 21,
      "outputs": [
        {
          "output_type": "stream",
          "name": "stdout",
          "text": [
            "('Alurralde, Solange Stefania', 'D', '02/04/2007')\n",
            "('Alvarado, Ludmila Del Milagro', 'D', '06/09/2006')\n",
            "('Angel, Camila Juliana', 'D', '07/03/2007')\n",
            "('Arenas, Lucas Gabriel', 'D', '26/06/2007')\n",
            "('Caseres, Maria Antonia', 'D', '01/07/2006')\n",
            "('Castillo, Paulina Milagros', 'D', '01/06/2007')\n",
            "('Correa Segovia, Hugo Mariano', 'D', '04/12/2006')\n",
            "('D Elia, Alvaro Tadeo', 'D', '27/08/2006')\n",
            "('Flores, Victoria Agustina', 'D', '12/12/2006')\n",
            "('Geronimo Soriano, Lizzie Amaya', 'D', '20/01/2007')\n",
            "('Guzman, Angélica Morena', 'D', '11/04/2007')\n",
            "('Guzman, Jazmin Esmeralda Belen', 'D', '31/07/2006')\n",
            "('Jaime, Anita Maria Belen', 'D', '19/04/2007')\n",
            "('Lacour Polo, Nazarena', 'D', '19/12/2005')\n",
            "('Lascano Guanca, Marcelo Fabricio', 'D', '17/02/2006')\n",
            "('Lezcano, Celia Morena', 'D', '01/07/2005')\n",
            "('Martinez, Tomas Andres', 'D', '22/03/2007')\n",
            "('Portella Valdivia, Pedro Francisco', 'D', '24/01/2007')\n",
            "('Retamal Cisneros, Zacarias Josue', 'D', '24/02/2007')\n",
            "('Rosales, Francisco Gabriel', 'D', '14/11/2006')\n",
            "('Salem Barba, Mahia', 'D', '14/10/2005')\n",
            "('Soto Camara, Agustin Ignacio', 'D', '07/11/2005')\n",
            "('Villalba, Irina', 'D', '09/09/2006')\n",
            "('Voltolini, Emanuel Tobias', 'D', '17/09/2006')\n",
            "('Zalazar, Santino Stefano', 'D', '30/09/2006')\n",
            "('Abud Laspiur, Lourdes Mariel', 'C', '05/12/2006')\n",
            "('Amador, Luana Micaela', 'C', '09/12/2006')\n",
            "('Anaquin, Leonardo Ezequiel', 'C', '06/09/2005')\n",
            "('Araoz Sanchez, Lautaro Nahuel', 'C', '28/12/2005')\n",
            "('Argañaraz, Agostina Abril', 'C', '11/10/2006')\n",
            "('Barrera, Matias Ezequiel', 'C', '27/02/2007')\n",
            "('Barrozo Vedia, Joaquin Nicolas', 'C', '15/04/2006')\n",
            "('Bettinelli, Valentino', 'C', '12/07/2006')\n",
            "('Bracamonte Martinez, Salvador', 'C', '02/11/2005')\n",
            "('Colque Rivero, Ariana Zoe Del Valle', 'C', '27/12/2006')\n",
            "('Diaz, Dulce Maitena', 'C', '11/12/2006')\n",
            "('Figueroa, Santino Josue', 'C', '12/05/2007')\n",
            "('Flores Cardozo, Agustina Tiara', 'C', '18/03/2006')\n",
            "('Gallo, Octavio Ismael', 'C', '04/08/2006')\n",
            "('Galvan, Lourdes Yamila', 'C', '19/08/2005')\n",
            "('Giangreco, Vitto Tomasso', 'C', '21/03/2007')\n",
            "('Grancara, Martina Luna', 'C', '15/12/2006')\n",
            "('Guanca, Sara Elizabeth', 'C', '17/01/2007')\n",
            "('Lopez, Victoria Constanza', 'C', '12/11/2007')\n",
            "('Mamani Garrido, Rosario Agostina', 'C', '24/10/2006')\n",
            "('Marinaro, Martin Ezequiel', 'C', '03/11/2006')\n",
            "('Merluzzi Dagum, Ignacio', 'C', '22/12/2005')\n",
            "('Messina, Martina', 'C', '13/07/2005')\n",
            "('Rasuk, Karim', 'C', '13/07/2007')\n",
            "('Rios, Lucia Magali', 'C', '22/09/2006')\n",
            "('Sanchez Flores, Matías Agustín', 'C', '15/02/2007')\n",
            "('Scarano, Renato Marcelo', 'C', '06/12/2006')\n",
            "('Sierra, Lucas Mauricio', 'C', '03/04/2005')\n",
            "('Tapia, Martin Gabriel', 'C', '30/05/2006')\n",
            "('Vilte, Mia Antonella Alondra', 'C', '10/09/2005')\n",
            "('Virgillito, Katya Milena', 'C', '19/06/2007')\n"
          ]
        }
      ]
    },
    {
      "cell_type": "markdown",
      "source": [
        "2. Genera una lista de diccionarios con los datos de las listas, donde las claves de los mismos serán:\n",
        "- \"apellido\"\n",
        "- \"nombre\"\n",
        "- \"curso\"\n",
        "- \"division\"\n",
        "- \"feha_de_nacimiento\"\n",
        "\n",
        "Muestra la información generada."
      ],
      "metadata": {
        "id": "dYEGkYZyLy9I"
      }
    },
    {
      "cell_type": "code",
      "source": [
        "lista_alumnos = []\n",
        "for alumno in estudiantes:\n",
        "  apellido, nombre=nombre_apellido.split(\",\")\n",
        "  nombre_apellido, division, fecha_nacimiento=alumno\n",
        "  nombre=nombre.lstrip()\n",
        "  diccionario_alumno ={}\n",
        "  diccionario_alumno[\"apellido\"]=apellido\n",
        "  diccionario_alumno[\"nombre\"]=nombre\n",
        "  diccionario_alumno[\"curso\"]=5\n",
        "  diccionario_alumno[\"division\"]=division\n",
        "  diccionario_alumno[\"fecha de nacimiento\"]=fecha_nacimiento\n",
        "  lista_alumnos.append(diccionario_alumno)\n",
        "\n",
        "for estudiante in lista_alumnos:\n",
        "  print(estudiante)"
      ],
      "metadata": {
        "id": "R7Y_5M2GN2eM",
        "outputId": "9634a92b-cb2a-4eaa-edfe-c0ae88d408ff",
        "colab": {
          "base_uri": "https://localhost:8080/"
        }
      },
      "execution_count": 26,
      "outputs": [
        {
          "output_type": "stream",
          "name": "stdout",
          "text": [
            "{'apellido': 'Virgillito', 'nombre': 'Katya Milena', 'curso': 5, 'division': 'D', 'fecha de nacimiento': '02/04/2007'}\n",
            "{'apellido': 'Alurralde', 'nombre': 'Solange Stefania', 'curso': 5, 'division': 'D', 'fecha de nacimiento': '06/09/2006'}\n",
            "{'apellido': 'Alvarado', 'nombre': 'Ludmila Del Milagro', 'curso': 5, 'division': 'D', 'fecha de nacimiento': '07/03/2007'}\n",
            "{'apellido': 'Angel', 'nombre': 'Camila Juliana', 'curso': 5, 'division': 'D', 'fecha de nacimiento': '26/06/2007'}\n",
            "{'apellido': 'Arenas', 'nombre': 'Lucas Gabriel', 'curso': 5, 'division': 'D', 'fecha de nacimiento': '01/07/2006'}\n",
            "{'apellido': 'Caseres', 'nombre': 'Maria Antonia', 'curso': 5, 'division': 'D', 'fecha de nacimiento': '01/06/2007'}\n",
            "{'apellido': 'Castillo', 'nombre': 'Paulina Milagros', 'curso': 5, 'division': 'D', 'fecha de nacimiento': '04/12/2006'}\n",
            "{'apellido': 'Correa Segovia', 'nombre': 'Hugo Mariano', 'curso': 5, 'division': 'D', 'fecha de nacimiento': '27/08/2006'}\n",
            "{'apellido': 'D Elia', 'nombre': 'Alvaro Tadeo', 'curso': 5, 'division': 'D', 'fecha de nacimiento': '12/12/2006'}\n",
            "{'apellido': 'Flores', 'nombre': 'Victoria Agustina', 'curso': 5, 'division': 'D', 'fecha de nacimiento': '20/01/2007'}\n",
            "{'apellido': 'Geronimo Soriano', 'nombre': 'Lizzie Amaya', 'curso': 5, 'division': 'D', 'fecha de nacimiento': '11/04/2007'}\n",
            "{'apellido': 'Guzman', 'nombre': 'Angélica Morena', 'curso': 5, 'division': 'D', 'fecha de nacimiento': '31/07/2006'}\n",
            "{'apellido': 'Guzman', 'nombre': 'Jazmin Esmeralda Belen', 'curso': 5, 'division': 'D', 'fecha de nacimiento': '19/04/2007'}\n",
            "{'apellido': 'Jaime', 'nombre': 'Anita Maria Belen', 'curso': 5, 'division': 'D', 'fecha de nacimiento': '19/12/2005'}\n",
            "{'apellido': 'Lacour Polo', 'nombre': 'Nazarena', 'curso': 5, 'division': 'D', 'fecha de nacimiento': '17/02/2006'}\n",
            "{'apellido': 'Lascano Guanca', 'nombre': 'Marcelo Fabricio', 'curso': 5, 'division': 'D', 'fecha de nacimiento': '01/07/2005'}\n",
            "{'apellido': 'Lezcano', 'nombre': 'Celia Morena', 'curso': 5, 'division': 'D', 'fecha de nacimiento': '22/03/2007'}\n",
            "{'apellido': 'Martinez', 'nombre': 'Tomas Andres', 'curso': 5, 'division': 'D', 'fecha de nacimiento': '24/01/2007'}\n",
            "{'apellido': 'Portella Valdivia', 'nombre': 'Pedro Francisco', 'curso': 5, 'division': 'D', 'fecha de nacimiento': '24/02/2007'}\n",
            "{'apellido': 'Retamal Cisneros', 'nombre': 'Zacarias Josue', 'curso': 5, 'division': 'D', 'fecha de nacimiento': '14/11/2006'}\n",
            "{'apellido': 'Rosales', 'nombre': 'Francisco Gabriel', 'curso': 5, 'division': 'D', 'fecha de nacimiento': '14/10/2005'}\n",
            "{'apellido': 'Salem Barba', 'nombre': 'Mahia', 'curso': 5, 'division': 'D', 'fecha de nacimiento': '07/11/2005'}\n",
            "{'apellido': 'Soto Camara', 'nombre': 'Agustin Ignacio', 'curso': 5, 'division': 'D', 'fecha de nacimiento': '09/09/2006'}\n",
            "{'apellido': 'Villalba', 'nombre': 'Irina', 'curso': 5, 'division': 'D', 'fecha de nacimiento': '17/09/2006'}\n",
            "{'apellido': 'Voltolini', 'nombre': 'Emanuel Tobias', 'curso': 5, 'division': 'D', 'fecha de nacimiento': '30/09/2006'}\n",
            "{'apellido': 'Zalazar', 'nombre': 'Santino Stefano', 'curso': 5, 'division': 'C', 'fecha de nacimiento': '05/12/2006'}\n",
            "{'apellido': 'Abud Laspiur', 'nombre': 'Lourdes Mariel', 'curso': 5, 'division': 'C', 'fecha de nacimiento': '09/12/2006'}\n",
            "{'apellido': 'Amador', 'nombre': 'Luana Micaela', 'curso': 5, 'division': 'C', 'fecha de nacimiento': '06/09/2005'}\n",
            "{'apellido': 'Anaquin', 'nombre': 'Leonardo Ezequiel', 'curso': 5, 'division': 'C', 'fecha de nacimiento': '28/12/2005'}\n",
            "{'apellido': 'Araoz Sanchez', 'nombre': 'Lautaro Nahuel', 'curso': 5, 'division': 'C', 'fecha de nacimiento': '11/10/2006'}\n",
            "{'apellido': 'Argañaraz', 'nombre': 'Agostina Abril', 'curso': 5, 'division': 'C', 'fecha de nacimiento': '27/02/2007'}\n",
            "{'apellido': 'Barrera', 'nombre': 'Matias Ezequiel', 'curso': 5, 'division': 'C', 'fecha de nacimiento': '15/04/2006'}\n",
            "{'apellido': 'Barrozo Vedia', 'nombre': 'Joaquin Nicolas', 'curso': 5, 'division': 'C', 'fecha de nacimiento': '12/07/2006'}\n",
            "{'apellido': 'Bettinelli', 'nombre': 'Valentino', 'curso': 5, 'division': 'C', 'fecha de nacimiento': '02/11/2005'}\n",
            "{'apellido': 'Bracamonte Martinez', 'nombre': 'Salvador', 'curso': 5, 'division': 'C', 'fecha de nacimiento': '27/12/2006'}\n",
            "{'apellido': 'Colque Rivero', 'nombre': 'Ariana Zoe Del Valle', 'curso': 5, 'division': 'C', 'fecha de nacimiento': '11/12/2006'}\n",
            "{'apellido': 'Diaz', 'nombre': 'Dulce Maitena', 'curso': 5, 'division': 'C', 'fecha de nacimiento': '12/05/2007'}\n",
            "{'apellido': 'Figueroa', 'nombre': 'Santino Josue', 'curso': 5, 'division': 'C', 'fecha de nacimiento': '18/03/2006'}\n",
            "{'apellido': 'Flores Cardozo', 'nombre': 'Agustina Tiara', 'curso': 5, 'division': 'C', 'fecha de nacimiento': '04/08/2006'}\n",
            "{'apellido': 'Gallo', 'nombre': 'Octavio Ismael', 'curso': 5, 'division': 'C', 'fecha de nacimiento': '19/08/2005'}\n",
            "{'apellido': 'Galvan', 'nombre': 'Lourdes Yamila', 'curso': 5, 'division': 'C', 'fecha de nacimiento': '21/03/2007'}\n",
            "{'apellido': 'Giangreco', 'nombre': 'Vitto Tomasso', 'curso': 5, 'division': 'C', 'fecha de nacimiento': '15/12/2006'}\n",
            "{'apellido': 'Grancara', 'nombre': 'Martina Luna', 'curso': 5, 'division': 'C', 'fecha de nacimiento': '17/01/2007'}\n",
            "{'apellido': 'Guanca', 'nombre': 'Sara Elizabeth', 'curso': 5, 'division': 'C', 'fecha de nacimiento': '12/11/2007'}\n",
            "{'apellido': 'Lopez', 'nombre': 'Victoria Constanza', 'curso': 5, 'division': 'C', 'fecha de nacimiento': '24/10/2006'}\n",
            "{'apellido': 'Mamani Garrido', 'nombre': 'Rosario Agostina', 'curso': 5, 'division': 'C', 'fecha de nacimiento': '03/11/2006'}\n",
            "{'apellido': 'Marinaro', 'nombre': 'Martin Ezequiel', 'curso': 5, 'division': 'C', 'fecha de nacimiento': '22/12/2005'}\n",
            "{'apellido': 'Merluzzi Dagum', 'nombre': 'Ignacio', 'curso': 5, 'division': 'C', 'fecha de nacimiento': '13/07/2005'}\n",
            "{'apellido': 'Messina', 'nombre': 'Martina', 'curso': 5, 'division': 'C', 'fecha de nacimiento': '13/07/2007'}\n",
            "{'apellido': 'Rasuk', 'nombre': 'Karim', 'curso': 5, 'division': 'C', 'fecha de nacimiento': '22/09/2006'}\n",
            "{'apellido': 'Rios', 'nombre': 'Lucia Magali', 'curso': 5, 'division': 'C', 'fecha de nacimiento': '15/02/2007'}\n",
            "{'apellido': 'Sanchez Flores', 'nombre': 'Matías Agustín', 'curso': 5, 'division': 'C', 'fecha de nacimiento': '06/12/2006'}\n",
            "{'apellido': 'Scarano', 'nombre': 'Renato Marcelo', 'curso': 5, 'division': 'C', 'fecha de nacimiento': '03/04/2005'}\n",
            "{'apellido': 'Sierra', 'nombre': 'Lucas Mauricio', 'curso': 5, 'division': 'C', 'fecha de nacimiento': '30/05/2006'}\n",
            "{'apellido': 'Tapia', 'nombre': 'Martin Gabriel', 'curso': 5, 'division': 'C', 'fecha de nacimiento': '10/09/2005'}\n",
            "{'apellido': 'Vilte', 'nombre': 'Mia Antonella Alondra', 'curso': 5, 'division': 'C', 'fecha de nacimiento': '19/06/2007'}\n"
          ]
        }
      ]
    },
    {
      "cell_type": "markdown",
      "source": [
        "3. Genera un diccionario en python, en donde la clave sea cada nombre que aparece en las listas y el valor será la cantidad de veces que se encuentra el mismo.\n",
        "Para este punto es posible fusionar ambas listas en una sola, recordá que hay un método que realiza esta acción.\n",
        "\n",
        "Mostrá la informacion generada"
      ],
      "metadata": {
        "id": "UW2dlBsGMAte"
      }
    },
    {
      "cell_type": "code",
      "source": [
        "#fusionoo ambas listas en una sola con extend, eso ya lo hice en \"estudiantes\")\n",
        "conteo_nombres={}\n",
        "for alumno in estudiantes:\n",
        "  nombre_apellido, division, fecha_nacimiento=alumno\n",
        "  apellido, nombre=nombre_apellido.split(\",\")\n",
        "  nombre=nombre.lstrip()\n",
        "  conteo_nombres[nombre_apellido]=nombre_apellido\n",
        "  diccionario_alumno[\"curso\"]=5\n",
        "  conteo_nombres[\"division\"]=division\n",
        "  conteo_nombres[\"fecha de nacimiento\"]=fecha_nacimiento\n",
        "\n",
        "for estudiante in conteo_nombres:\n",
        "  if nombre in conteo_nombres.keys():\n",
        "    conteo_nombres[nombre] += 1\n",
        "  else:\n",
        "    conteo_nombres[nombre] = 1\n",
        "for nombre, cantidad_veces in conteo_nombres.items():\n",
        "  print(f\"el nombre {nombre} aparece {cantidad_veces} veces\")"
      ],
      "metadata": {
        "id": "EawAy4SANtkl",
        "outputId": "cf41b4fe-0d41-46ff-ef95-84ff537b3a50",
        "colab": {
          "base_uri": "https://localhost:8080/",
          "height": 349
        }
      },
      "execution_count": 40,
      "outputs": [
        {
          "output_type": "error",
          "ename": "RuntimeError",
          "evalue": "dictionary changed size during iteration",
          "traceback": [
            "\u001b[0;31m---------------------------------------------------------------------------\u001b[0m",
            "\u001b[0;31mRuntimeError\u001b[0m                              Traceback (most recent call last)",
            "\u001b[0;32m<ipython-input-40-ca8bcff1497b>\u001b[0m in \u001b[0;36m<cell line: 12>\u001b[0;34m()\u001b[0m\n\u001b[1;32m     10\u001b[0m   \u001b[0mconteo_nombres\u001b[0m\u001b[0;34m[\u001b[0m\u001b[0;34m\"fecha de nacimiento\"\u001b[0m\u001b[0;34m]\u001b[0m\u001b[0;34m=\u001b[0m\u001b[0mfecha_nacimiento\u001b[0m\u001b[0;34m\u001b[0m\u001b[0;34m\u001b[0m\u001b[0m\n\u001b[1;32m     11\u001b[0m \u001b[0;34m\u001b[0m\u001b[0m\n\u001b[0;32m---> 12\u001b[0;31m \u001b[0;32mfor\u001b[0m \u001b[0mestudiante\u001b[0m \u001b[0;32min\u001b[0m \u001b[0mconteo_nombres\u001b[0m\u001b[0;34m:\u001b[0m\u001b[0;34m\u001b[0m\u001b[0;34m\u001b[0m\u001b[0m\n\u001b[0m\u001b[1;32m     13\u001b[0m   \u001b[0;32mif\u001b[0m \u001b[0mnombre\u001b[0m \u001b[0;32min\u001b[0m \u001b[0mconteo_nombres\u001b[0m\u001b[0;34m.\u001b[0m\u001b[0mkeys\u001b[0m\u001b[0;34m(\u001b[0m\u001b[0;34m)\u001b[0m\u001b[0;34m:\u001b[0m\u001b[0;34m\u001b[0m\u001b[0;34m\u001b[0m\u001b[0m\n\u001b[1;32m     14\u001b[0m     \u001b[0mconteo_nombres\u001b[0m\u001b[0;34m[\u001b[0m\u001b[0mnombre\u001b[0m\u001b[0;34m]\u001b[0m \u001b[0;34m+=\u001b[0m \u001b[0;36m1\u001b[0m\u001b[0;34m\u001b[0m\u001b[0;34m\u001b[0m\u001b[0m\n",
            "\u001b[0;31mRuntimeError\u001b[0m: dictionary changed size during iteration"
          ]
        }
      ]
    },
    {
      "cell_type": "markdown",
      "source": [
        "4. Genera un diccionario en python, en donde la clave sea cada apellido que aparece en las listas y el valor será la cantidad de veces que se encuentra el mismo.\n",
        "Para este punto es posible fusionar ambas listas en una sola, recordá que hay un método que realiza esta acción."
      ],
      "metadata": {
        "id": "kZeEHUYVNwGV"
      }
    },
    {
      "cell_type": "code",
      "source": [
        "#fusiono ambas listas en una sola\n",
        "todos_los_estudiantes = estudiantes_5c + estudiantes_5d\n",
        "\n",
        "conteo_apellidos = {}\n",
        "for estudiante in todos_los_estudiantes:\n",
        "  nombre_completo = estudiante[0]\n",
        "  apellido = nombre_completo.split(', ')[0]\n",
        "  if apellido in conteo_apellidos:\n",
        "    conteo_apellidos[apellido] += 1\n",
        "  else:\n",
        "    conteo_apellidos[apellido] = 1\n",
        "\n",
        "print(conteo_apellidos)\n"
      ],
      "metadata": {
        "id": "q05GnxXgORzt",
        "outputId": "4c99ad6f-a356-48e5-9ef9-5ba60507c89e",
        "colab": {
          "base_uri": "https://localhost:8080/"
        }
      },
      "execution_count": null,
      "outputs": [
        {
          "output_type": "stream",
          "name": "stdout",
          "text": [
            "{'ABUD LASPIUR': 1, 'Amador': 1, 'Anaquin': 1, 'Araoz Sanchez': 1, 'Argañaraz': 1, 'Barrera': 1, 'Barrozo Vedia': 1, 'Bettinelli': 1, 'Bracamonte Martinez': 1, 'Colque Rivero': 1, 'Diaz': 1, 'FIGUEROA': 1, 'Flores Cardozo': 1, 'Gallo': 1, 'Galvan': 1, 'Giangreco': 1, 'Grancara': 1, 'Guanca': 1, 'Lopez': 1, 'Mamani Garrido': 1, 'Marinaro': 1, 'Merluzzi Dagum': 1, 'Messina': 1, 'RASUK': 1, 'Rios': 1, 'Sanchez Flores': 1, 'Scarano': 1, 'Sierra': 1, 'Tapia': 1, 'Vilte': 1, 'Virgillito': 1, 'Alurralde': 1, 'Alvarado': 1, 'Angel': 1, 'Arenas': 1, 'Caseres': 1, 'Castillo': 1, 'Correa Segovia': 1, 'D Elia': 1, 'Flores': 1, 'Geronimo Soriano': 1, 'Guzman': 2, 'Jaime': 1, 'Lacour Polo': 1, 'Lascano Guanca': 1, 'Lezcano': 1, 'Martinez': 1, 'Portella Valdivia': 1, 'Retamal Cisneros': 1, 'Rosales': 1, 'Salem Barba': 1, 'Soto Camara': 1, 'Villalba': 1, 'Voltolini': 1, 'Zalazar': 1}\n"
          ]
        }
      ]
    },
    {
      "cell_type": "markdown",
      "source": [
        "5. Solicita al usuario que ingrese un apellido y muestra  a todos los estudiantes con ese apellido."
      ],
      "metadata": {
        "id": "ywYmA2JQNp3T"
      }
    },
    {
      "cell_type": "code",
      "source": [
        "estudiantes_rotos=[]\n",
        "for i in estudiantes_5c"
      ],
      "metadata": {
        "id": "Cnp334ZrOCjK"
      },
      "execution_count": null,
      "outputs": []
    },
    {
      "cell_type": "markdown",
      "source": [
        "6. Solicita al usuario que ingrese un nombre y muestra a todos los estudiantes con el nombre ingresado."
      ],
      "metadata": {
        "id": "iAXts6saODoU"
      }
    },
    {
      "cell_type": "code",
      "source": [
        "\n",
        "nombre = str(input(\"ingrese un nombre:  \")).title()\n",
        "encontrado = False\n",
        "for estudiante in estudiantes_5d:\n",
        "  if nombre in estudiante[\"nombre\"]:\n",
        "    print(estudiante)\n",
        "    encontrado = True\n",
        "if encontrado == False:\n",
        "  print(f\"no se encontró el nombre {nombre}\")"
      ],
      "metadata": {
        "id": "FMRsUlvtOJS_",
        "outputId": "b258b5e1-eccc-4711-dba0-3ae3e43280c6",
        "colab": {
          "base_uri": "https://localhost:8080/",
          "height": 332
        }
      },
      "execution_count": 41,
      "outputs": [
        {
          "name": "stdout",
          "output_type": "stream",
          "text": [
            "ingrese un nombre:  lucas\n"
          ]
        },
        {
          "output_type": "error",
          "ename": "TypeError",
          "evalue": "tuple indices must be integers or slices, not str",
          "traceback": [
            "\u001b[0;31m---------------------------------------------------------------------------\u001b[0m",
            "\u001b[0;31mTypeError\u001b[0m                                 Traceback (most recent call last)",
            "\u001b[0;32m<ipython-input-41-1a19e6da62b5>\u001b[0m in \u001b[0;36m<cell line: 3>\u001b[0;34m()\u001b[0m\n\u001b[1;32m      2\u001b[0m \u001b[0mencontrado\u001b[0m \u001b[0;34m=\u001b[0m \u001b[0;32mFalse\u001b[0m\u001b[0;34m\u001b[0m\u001b[0;34m\u001b[0m\u001b[0m\n\u001b[1;32m      3\u001b[0m \u001b[0;32mfor\u001b[0m \u001b[0mestudiante\u001b[0m \u001b[0;32min\u001b[0m \u001b[0mestudiantes_5d\u001b[0m\u001b[0;34m:\u001b[0m\u001b[0;34m\u001b[0m\u001b[0;34m\u001b[0m\u001b[0m\n\u001b[0;32m----> 4\u001b[0;31m   \u001b[0;32mif\u001b[0m \u001b[0mnombre\u001b[0m \u001b[0;32min\u001b[0m \u001b[0mestudiante\u001b[0m\u001b[0;34m[\u001b[0m\u001b[0;34m\"nombre\"\u001b[0m\u001b[0;34m]\u001b[0m\u001b[0;34m:\u001b[0m\u001b[0;34m\u001b[0m\u001b[0;34m\u001b[0m\u001b[0m\n\u001b[0m\u001b[1;32m      5\u001b[0m     \u001b[0mprint\u001b[0m\u001b[0;34m(\u001b[0m\u001b[0mestudiante\u001b[0m\u001b[0;34m)\u001b[0m\u001b[0;34m\u001b[0m\u001b[0;34m\u001b[0m\u001b[0m\n\u001b[1;32m      6\u001b[0m     \u001b[0mencontrado\u001b[0m \u001b[0;34m=\u001b[0m \u001b[0;32mTrue\u001b[0m\u001b[0;34m\u001b[0m\u001b[0;34m\u001b[0m\u001b[0m\n",
            "\u001b[0;31mTypeError\u001b[0m: tuple indices must be integers or slices, not str"
          ]
        }
      ]
    },
    {
      "cell_type": "markdown",
      "source": [
        "7. Busca el diccionario con tu información dentro de la lista y cámbiate de división, de tal manera que si estas en 5C, con el cambio quedes en 5D y viceversa."
      ],
      "metadata": {
        "id": "T4PFiwwdOK27"
      }
    },
    {
      "cell_type": "code",
      "source": [
        "pass"
      ],
      "metadata": {
        "id": "vjQ2X9x3OmFr"
      },
      "execution_count": null,
      "outputs": []
    },
    {
      "cell_type": "markdown",
      "source": [
        "8. Ordenar la lista alfabeticamente por nombre. Ascendente y descendentemente. Para elegir como ordenarla, mostrar un menú donde el usuario podrá decidir como quiere ver la salida."
      ],
      "metadata": {
        "id": "xfy8SFlZRVGf"
      }
    },
    {
      "cell_type": "code",
      "source": [
        "print(\"\"\"\n",
        "1. Ordenar alfabeticamente por nombre de manera ascendente\n",
        "2. Ordenar alfabeticamente por nombre de manera descendente\n",
        "\"\"\")\n",
        "opcion = int(input(\"Ingrese una opcion: \"))\n",
        "if opcion == 1:\n",
        "  estudiantes_5d.sort(key=lambda x: x['nombre'])\n",
        "else:\n",
        "  estudiantes_5d.sort(key=lambda x: x['nombre'], reverse=True)\n",
        "\n",
        "if opcion == 1:\n",
        "  estudiantes_5c.sort(key=lambda x: x['nombre'])\n",
        "else:\n",
        "  estudiantes_5c.sort(key=lambda x: x['nombre'], reverse=True)\n",
        "\n",
        "\n",
        "print(\"\"\"\n",
        "1. Salida en lista\n",
        "2. Salida en diccionario\n",
        "\"\"\")\n",
        "opcion_b = int(input(\"Ingrese una opcion: \"))\n",
        "if opcion_b == 1:\n",
        "  print(\"Estudiantes 5D:\", [estudiante['nombre'] for estudiante in estudiantes_5d])\n",
        "  print(\"Estudiantes 5C:\", [estudiante['nombre'] for estudiante in estudiantes_5c])\n",
        "else:\n",
        "  for estudiante in estudiantes_5d:\n",
        "    print(estudiante)\n",
        "  for estudiante in estudiantes_5c:\n",
        "    print(estudiante)"
      ],
      "metadata": {
        "id": "E4Onk1FNRUa2",
        "outputId": "019f3fdb-02c6-45d9-bca1-257d75289b79",
        "colab": {
          "base_uri": "https://localhost:8080/",
          "height": 699
        }
      },
      "execution_count": 42,
      "outputs": [
        {
          "name": "stdout",
          "output_type": "stream",
          "text": [
            "\n",
            "1. Ordenar alfabeticamente por nombre de manera ascendente\n",
            "2. Ordenar alfabeticamente por nombre de manera descendente\n",
            "\n",
            "Ingrese una opcion: 1\n"
          ]
        },
        {
          "output_type": "error",
          "ename": "TypeError",
          "evalue": "tuple indices must be integers or slices, not str",
          "traceback": [
            "\u001b[0;31m---------------------------------------------------------------------------\u001b[0m",
            "\u001b[0;31mTypeError\u001b[0m                                 Traceback (most recent call last)",
            "\u001b[0;32m<ipython-input-42-96fba5829c89>\u001b[0m in \u001b[0;36m<cell line: 6>\u001b[0;34m()\u001b[0m\n\u001b[1;32m      5\u001b[0m \u001b[0mopcion\u001b[0m \u001b[0;34m=\u001b[0m \u001b[0mint\u001b[0m\u001b[0;34m(\u001b[0m\u001b[0minput\u001b[0m\u001b[0;34m(\u001b[0m\u001b[0;34m\"Ingrese una opcion: \"\u001b[0m\u001b[0;34m)\u001b[0m\u001b[0;34m)\u001b[0m\u001b[0;34m\u001b[0m\u001b[0;34m\u001b[0m\u001b[0m\n\u001b[1;32m      6\u001b[0m \u001b[0;32mif\u001b[0m \u001b[0mopcion\u001b[0m \u001b[0;34m==\u001b[0m \u001b[0;36m1\u001b[0m\u001b[0;34m:\u001b[0m\u001b[0;34m\u001b[0m\u001b[0;34m\u001b[0m\u001b[0m\n\u001b[0;32m----> 7\u001b[0;31m   \u001b[0mestudiantes_5d\u001b[0m\u001b[0;34m.\u001b[0m\u001b[0msort\u001b[0m\u001b[0;34m(\u001b[0m\u001b[0mkey\u001b[0m\u001b[0;34m=\u001b[0m\u001b[0;32mlambda\u001b[0m \u001b[0mx\u001b[0m\u001b[0;34m:\u001b[0m \u001b[0mx\u001b[0m\u001b[0;34m[\u001b[0m\u001b[0;34m'nombre'\u001b[0m\u001b[0;34m]\u001b[0m\u001b[0;34m)\u001b[0m\u001b[0;34m\u001b[0m\u001b[0;34m\u001b[0m\u001b[0m\n\u001b[0m\u001b[1;32m      8\u001b[0m \u001b[0;32melse\u001b[0m\u001b[0;34m:\u001b[0m\u001b[0;34m\u001b[0m\u001b[0;34m\u001b[0m\u001b[0m\n\u001b[1;32m      9\u001b[0m   \u001b[0mestudiantes_5d\u001b[0m\u001b[0;34m.\u001b[0m\u001b[0msort\u001b[0m\u001b[0;34m(\u001b[0m\u001b[0mkey\u001b[0m\u001b[0;34m=\u001b[0m\u001b[0;32mlambda\u001b[0m \u001b[0mx\u001b[0m\u001b[0;34m:\u001b[0m \u001b[0mx\u001b[0m\u001b[0;34m[\u001b[0m\u001b[0;34m'nombre'\u001b[0m\u001b[0;34m]\u001b[0m\u001b[0;34m,\u001b[0m \u001b[0mreverse\u001b[0m\u001b[0;34m=\u001b[0m\u001b[0;32mTrue\u001b[0m\u001b[0;34m)\u001b[0m\u001b[0;34m\u001b[0m\u001b[0;34m\u001b[0m\u001b[0m\n",
            "\u001b[0;32m<ipython-input-42-96fba5829c89>\u001b[0m in \u001b[0;36m<lambda>\u001b[0;34m(x)\u001b[0m\n\u001b[1;32m      5\u001b[0m \u001b[0mopcion\u001b[0m \u001b[0;34m=\u001b[0m \u001b[0mint\u001b[0m\u001b[0;34m(\u001b[0m\u001b[0minput\u001b[0m\u001b[0;34m(\u001b[0m\u001b[0;34m\"Ingrese una opcion: \"\u001b[0m\u001b[0;34m)\u001b[0m\u001b[0;34m)\u001b[0m\u001b[0;34m\u001b[0m\u001b[0;34m\u001b[0m\u001b[0m\n\u001b[1;32m      6\u001b[0m \u001b[0;32mif\u001b[0m \u001b[0mopcion\u001b[0m \u001b[0;34m==\u001b[0m \u001b[0;36m1\u001b[0m\u001b[0;34m:\u001b[0m\u001b[0;34m\u001b[0m\u001b[0;34m\u001b[0m\u001b[0m\n\u001b[0;32m----> 7\u001b[0;31m   \u001b[0mestudiantes_5d\u001b[0m\u001b[0;34m.\u001b[0m\u001b[0msort\u001b[0m\u001b[0;34m(\u001b[0m\u001b[0mkey\u001b[0m\u001b[0;34m=\u001b[0m\u001b[0;32mlambda\u001b[0m \u001b[0mx\u001b[0m\u001b[0;34m:\u001b[0m \u001b[0mx\u001b[0m\u001b[0;34m[\u001b[0m\u001b[0;34m'nombre'\u001b[0m\u001b[0;34m]\u001b[0m\u001b[0;34m)\u001b[0m\u001b[0;34m\u001b[0m\u001b[0;34m\u001b[0m\u001b[0m\n\u001b[0m\u001b[1;32m      8\u001b[0m \u001b[0;32melse\u001b[0m\u001b[0;34m:\u001b[0m\u001b[0;34m\u001b[0m\u001b[0;34m\u001b[0m\u001b[0m\n\u001b[1;32m      9\u001b[0m   \u001b[0mestudiantes_5d\u001b[0m\u001b[0;34m.\u001b[0m\u001b[0msort\u001b[0m\u001b[0;34m(\u001b[0m\u001b[0mkey\u001b[0m\u001b[0;34m=\u001b[0m\u001b[0;32mlambda\u001b[0m \u001b[0mx\u001b[0m\u001b[0;34m:\u001b[0m \u001b[0mx\u001b[0m\u001b[0;34m[\u001b[0m\u001b[0;34m'nombre'\u001b[0m\u001b[0;34m]\u001b[0m\u001b[0;34m,\u001b[0m \u001b[0mreverse\u001b[0m\u001b[0;34m=\u001b[0m\u001b[0;32mTrue\u001b[0m\u001b[0;34m)\u001b[0m\u001b[0;34m\u001b[0m\u001b[0;34m\u001b[0m\u001b[0m\n",
            "\u001b[0;31mTypeError\u001b[0m: tuple indices must be integers or slices, not str"
          ]
        }
      ]
    },
    {
      "cell_type": "markdown",
      "source": [
        "9. Ordenar la lista alfabeticamente por apellido. Ascendente y descendentemente. Para elegir como ordenarla, mostrar un menú donde el usuario podrá decidir como quiere ver la salida."
      ],
      "metadata": {
        "id": "lW18NgPjRcGP"
      }
    },
    {
      "cell_type": "code",
      "source": [],
      "metadata": {
        "id": "jTtWBnalRcoC"
      },
      "execution_count": null,
      "outputs": []
    },
    {
      "cell_type": "markdown",
      "source": [
        "10. Ordena la lista por fecha de nacimiento, de manera ascendente y descendente."
      ],
      "metadata": {
        "id": "E24lH7x5Xbur"
      }
    },
    {
      "cell_type": "code",
      "source": [],
      "metadata": {
        "id": "9SeI3GBGXims"
      },
      "execution_count": null,
      "outputs": []
    },
    {
      "cell_type": "markdown",
      "source": [
        "11. Generar una estuctura de diccionario anidado en donde la clave sea el nombre del estudiante y el valor sea un diccionario con los datos del mismo, de la siguiente manera:\n",
        "\n",
        "\n",
        "\n",
        "\n",
        "```python\n",
        "estudiantes = {\n",
        "    \"Juan Perez\": {\n",
        "        \"año\": 2024,\n",
        "        \"división\": \"5D\",\n",
        "        \"fecha de nacimiento\": \"15/03/2006\"\n",
        "    },\n",
        "    \"Maria Gomez\": {\n",
        "        \"año\": 2024,\n",
        "        \"división\": \"5D\",\n",
        "        \"fecha de nacimiento\": \"22/07/2006\"\n",
        "    },\n",
        "    \"Carlos Lopez\": {\n",
        "        \"año\": 2024,\n",
        "        \"división\": \"5D\",\n",
        "        \"fecha de nacimiento\": \"05/10/2006\"\n",
        "    }\n",
        "}\n",
        "```\n",
        "\n",
        "\n",
        "\n",
        "\n"
      ],
      "metadata": {
        "id": "vOY6K_ydRc3Q"
      }
    },
    {
      "cell_type": "code",
      "source": [],
      "metadata": {
        "id": "9JDrd3WqRdTi"
      },
      "execution_count": null,
      "outputs": []
    },
    {
      "cell_type": "markdown",
      "source": [],
      "metadata": {
        "id": "NOAAaOgoXVqk"
      }
    }
  ]
}