{
  "nbformat": 4,
  "nbformat_minor": 0,
  "metadata": {
    "colab": {
      "provenance": [],
      "include_colab_link": true
    },
    "kernelspec": {
      "name": "python3",
      "display_name": "Python 3"
    },
    "language_info": {
      "name": "python"
    }
  },
  "cells": [
    {
      "cell_type": "markdown",
      "metadata": {
        "id": "view-in-github",
        "colab_type": "text"
      },
      "source": [
        "<a href=\"https://colab.research.google.com/github/lucasaree/tps-pii-colab/blob/main/Diccionario_Pr%C3%A1ctica.ipynb\" target=\"_parent\"><img src=\"https://colab.research.google.com/assets/colab-badge.svg\" alt=\"Open In Colab\"/></a>"
      ]
    },
    {
      "cell_type": "code",
      "source": [
        "#Version definitiva de el tp diccionario, junte todo lo importante y desarrole lo que faltaba\n",
        "#2/09/2024 Lucas Arenas 5°D\n",
        "#Gracias profe por volver a revisar el codigo del diccionario"
      ],
      "metadata": {
        "id": "C7G5rDwE4Xpj"
      },
      "execution_count": null,
      "outputs": []
    },
    {
      "cell_type": "code",
      "source": [
        "#buenas profe gracias por volver a revisar los trabajos, encontre el commit que buscaba donde habia hecho los ejercicios en clase, no encontre todos lastimosamente y me quede sin tiempo para desarrollar, perdon por eso, abajo estan las actividades"
      ],
      "metadata": {
        "id": "nWdGyVlA4W4a"
      },
      "execution_count": null,
      "outputs": []
    },
    {
      "cell_type": "code",
      "execution_count": 1,
      "metadata": {
        "id": "8VOD-zpMJovw"
      },
      "outputs": [],
      "source": [
        "# Listas de alumnos\n",
        "estudiantes_5d = [\n",
        "   (\"Alurralde, Solange Stefania\",\"D\",\"02/04/2007\"),\n",
        "   (\"Alvarado, Ludmila Del Milagro\",\"D\",\"06/09/2006\"),\n",
        "   (\"Angel, Camila Juliana\",\"D\",\"07/03/2007\"),\n",
        "   (\"Arenas, Lucas Gabriel\",\"D\",\"26/06/2007\"),\n",
        "   (\"Caseres, Maria Antonia\",\"D\",\"01/07/2006\"),\n",
        "   (\"Castillo, Paulina Milagros\",\"D\",\"01/06/2007\"),\n",
        "   (\"Correa Segovia, Hugo Mariano\",\"D\",\"04/12/2006\"),\n",
        "   (\"D Elia, Alvaro Tadeo\",\"D\",\"27/08/2006\"),\n",
        "   (\"Flores, Victoria Agustina\",\"D\",\"12/12/2006\"),\n",
        "   (\"Geronimo Soriano, Lizzie Amaya\",\"D\",\"20/01/2007\"),\n",
        "   (\"GUZMAN, ANGÉLICA MORENA\",\"D\",\"11/04/2007\"),\n",
        "   (\"Guzman, Jazmin Esmeralda Belen\",\"D\",\"31/07/2006\"),\n",
        "   (\"Jaime, Anita Maria Belen\",\"D\",\"19/04/2007\"),\n",
        "   (\"Lacour Polo, Nazarena\",\"D\",\"19/12/2005\"),\n",
        "   (\"Lascano Guanca, Marcelo Fabricio\",\"D\",\"17/02/2006\"),\n",
        "   (\"Lezcano, Celia Morena\",\"D\",\"01/07/2005\"),\n",
        "   (\"Martinez, Tomas Andres\",\"D\",\"22/03/2007\"),\n",
        "   (\"PORTELLA VALDIVIA, PEDRO FRANCISCO\",\"D\",\"24/01/2007\"),\n",
        "   (\"Retamal Cisneros, Zacarias Josue\",\"D\",\"24/02/2007\"),\n",
        "   (\"Rosales, Francisco Gabriel\",\"D\",\"14/11/2006\"),\n",
        "   (\"Salem Barba, Mahia\",\"D\",\"14/10/2005\"),\n",
        "   (\"Soto Camara, Agustin Ignacio\",\"D\",\"07/11/2005\"),\n",
        "   (\"Villalba, Irina\",\"D\",\"09/09/2006\"),\n",
        "   (\"Voltolini, Emanuel Tobias\",\"D\",\"17/09/2006\"),\n",
        "   (\"Zalazar, Santino Stefano\",\"D\",\"30/09/2006\")\n",
        "]\n",
        "\n",
        "estudiantes_5c=[\n",
        "    (\"ABUD LASPIUR, LOURDES MARIEL\",\"C\",\"05/12/2006\"),\n",
        "    (\"Amador, Luana Micaela\",\"C\",\"09/12/2006\"),\n",
        "    (\"Anaquin, Leonardo Ezequiel\",\"C\",\"06/09/2005\"),\n",
        "    (\"Araoz Sanchez, Lautaro Nahuel\",\"C\",\"28/12/2005\"),\n",
        "    (\"Argañaraz, Agostina Abril\",\"C\",\"11/10/2006\"),\n",
        "    (\"Barrera, Matias Ezequiel\",\"C\",\"27/02/2007\"),\n",
        "    (\"Barrozo Vedia, Joaquin Nicolas\",\"C\",\"15/04/2006\"),\n",
        "    (\"Bettinelli, Valentino\",\"C\",\"12/07/2006\"),\n",
        "    (\"Bracamonte Martinez, Salvador\",\"C\",\"02/11/2005\"),\n",
        "    (\"Colque Rivero, Ariana Zoe Del Valle\",\"C\",\"27/12/2006\"),\n",
        "    (\"Diaz, Dulce Maitena\",\"C\",\"11/12/2006\"),\n",
        "    (\"FIGUEROA, SANTINO JOSUE\",\"C\",\"12/05/2007\"),\n",
        "    (\"Flores Cardozo, Agustina Tiara\",\"C\",\"18/03/2006\"),\n",
        "    (\"Gallo, Octavio Ismael\",\"C\",\"04/08/2006\"),\n",
        "    (\"Galvan, Lourdes Yamila\",\"C\",\"19/08/2005\"),\n",
        "    (\"Giangreco, Vitto Tomasso\",\"C\",\"21/03/2007\"),\n",
        "    (\"Grancara, Martina Luna\",\"C\",\"15/12/2006\"),\n",
        "    (\"Guanca, Sara Elizabeth\",\"C\",\"17/01/2007\"),\n",
        "    (\"Lopez, Victoria Constanza\",\"C\",\"12/11/2007\"),\n",
        "    (\"Mamani Garrido, Rosario Agostina\",\"C\",\"24/10/2006\"),\n",
        "    (\"Marinaro, Martin Ezequiel\",\"C\",\"03/11/2006\"),\n",
        "    (\"Merluzzi Dagum, Ignacio\",\"C\",\"22/12/2005\"),\n",
        "    (\"Messina, Martina\",\"C\",\"13/07/2005\"),\n",
        "    (\"RASUK, KARIM\", \"C\",\"13/07/2007\"),\n",
        "    (\"Rios, Lucia Magali\",\"C\",\"22/09/2006\"),\n",
        "    (\"Sanchez Flores, Matías Agustín\",\"C\",\"15/02/2007\"),\n",
        "    (\"Scarano, Renato Marcelo\",\"C\",\"06/12/2006\"),\n",
        "    (\"Sierra, Lucas Mauricio\",\"C\",\"03/04/2005\"),\n",
        "    (\"Tapia, Martin Gabriel\",\"C\",\"30/05/2006\"),\n",
        "    (\"Vilte, Mia Antonella Alondra\",\"C\",\"10/09/2005\"),\n",
        "    (\"Virgillito, Katya Milena\",\"C\",\"19/06/2007\")\n",
        "]"
      ]
    },
    {
      "cell_type": "markdown",
      "source": [
        "## Dada la lista estudiantes:\n",
        "> - Hacer una celda para resolver cada punto.\n",
        "- El TP resuelto será revisado en tu repositorio, no es necesario que lo envíes, pero sí que lo pushees correctamente.\n",
        "- En la nota inicial se contempla:\n",
        "  - La incorporación de este documento a tu propio respositorio.\n",
        "  - El pusheo de los cambios realizados.\n",
        "  - La resolución de los ejercicios propuestos.\n"
      ],
      "metadata": {
        "id": "rd6Ug6v3J4uN"
      }
    },
    {
      "cell_type": "markdown",
      "source": [
        "1. Reemplaza todos los valores del nombre por los que obtengas del método title(). De esta manera las listas quedaran con los datos más homogéneos."
      ],
      "metadata": {
        "id": "wRLng-uURyJ3"
      }
    },
    {
      "cell_type": "code",
      "source": [
        "estudiantes=[]\n",
        "estudiantes.extend(estudiantes_5d)\n",
        "estudiantes.extend(estudiantes_5c)\n",
        "for i in range(len(estudiantes)):\n",
        "  nombre_apellido, division, fecha_nacimiento= estudiantes[i]\n",
        "  nombre_apellido=nombre_apellido.title()\n",
        "  estudiantes[i]= nombre_apellido, division, fecha_nacimiento\n",
        "for estudiante in estudiantes:\n",
        "  print(estudiante)"
      ],
      "metadata": {
        "id": "5lFqJoTaSIWi",
        "outputId": "ba854c99-6bea-41b3-cbf7-b0780fa90c6b",
        "colab": {
          "base_uri": "https://localhost:8080/"
        }
      },
      "execution_count": 2,
      "outputs": [
        {
          "output_type": "stream",
          "name": "stdout",
          "text": [
            "('Alurralde, Solange Stefania', 'D', '02/04/2007')\n",
            "('Alvarado, Ludmila Del Milagro', 'D', '06/09/2006')\n",
            "('Angel, Camila Juliana', 'D', '07/03/2007')\n",
            "('Arenas, Lucas Gabriel', 'D', '26/06/2007')\n",
            "('Caseres, Maria Antonia', 'D', '01/07/2006')\n",
            "('Castillo, Paulina Milagros', 'D', '01/06/2007')\n",
            "('Correa Segovia, Hugo Mariano', 'D', '04/12/2006')\n",
            "('D Elia, Alvaro Tadeo', 'D', '27/08/2006')\n",
            "('Flores, Victoria Agustina', 'D', '12/12/2006')\n",
            "('Geronimo Soriano, Lizzie Amaya', 'D', '20/01/2007')\n",
            "('Guzman, Angélica Morena', 'D', '11/04/2007')\n",
            "('Guzman, Jazmin Esmeralda Belen', 'D', '31/07/2006')\n",
            "('Jaime, Anita Maria Belen', 'D', '19/04/2007')\n",
            "('Lacour Polo, Nazarena', 'D', '19/12/2005')\n",
            "('Lascano Guanca, Marcelo Fabricio', 'D', '17/02/2006')\n",
            "('Lezcano, Celia Morena', 'D', '01/07/2005')\n",
            "('Martinez, Tomas Andres', 'D', '22/03/2007')\n",
            "('Portella Valdivia, Pedro Francisco', 'D', '24/01/2007')\n",
            "('Retamal Cisneros, Zacarias Josue', 'D', '24/02/2007')\n",
            "('Rosales, Francisco Gabriel', 'D', '14/11/2006')\n",
            "('Salem Barba, Mahia', 'D', '14/10/2005')\n",
            "('Soto Camara, Agustin Ignacio', 'D', '07/11/2005')\n",
            "('Villalba, Irina', 'D', '09/09/2006')\n",
            "('Voltolini, Emanuel Tobias', 'D', '17/09/2006')\n",
            "('Zalazar, Santino Stefano', 'D', '30/09/2006')\n",
            "('Abud Laspiur, Lourdes Mariel', 'C', '05/12/2006')\n",
            "('Amador, Luana Micaela', 'C', '09/12/2006')\n",
            "('Anaquin, Leonardo Ezequiel', 'C', '06/09/2005')\n",
            "('Araoz Sanchez, Lautaro Nahuel', 'C', '28/12/2005')\n",
            "('Argañaraz, Agostina Abril', 'C', '11/10/2006')\n",
            "('Barrera, Matias Ezequiel', 'C', '27/02/2007')\n",
            "('Barrozo Vedia, Joaquin Nicolas', 'C', '15/04/2006')\n",
            "('Bettinelli, Valentino', 'C', '12/07/2006')\n",
            "('Bracamonte Martinez, Salvador', 'C', '02/11/2005')\n",
            "('Colque Rivero, Ariana Zoe Del Valle', 'C', '27/12/2006')\n",
            "('Diaz, Dulce Maitena', 'C', '11/12/2006')\n",
            "('Figueroa, Santino Josue', 'C', '12/05/2007')\n",
            "('Flores Cardozo, Agustina Tiara', 'C', '18/03/2006')\n",
            "('Gallo, Octavio Ismael', 'C', '04/08/2006')\n",
            "('Galvan, Lourdes Yamila', 'C', '19/08/2005')\n",
            "('Giangreco, Vitto Tomasso', 'C', '21/03/2007')\n",
            "('Grancara, Martina Luna', 'C', '15/12/2006')\n",
            "('Guanca, Sara Elizabeth', 'C', '17/01/2007')\n",
            "('Lopez, Victoria Constanza', 'C', '12/11/2007')\n",
            "('Mamani Garrido, Rosario Agostina', 'C', '24/10/2006')\n",
            "('Marinaro, Martin Ezequiel', 'C', '03/11/2006')\n",
            "('Merluzzi Dagum, Ignacio', 'C', '22/12/2005')\n",
            "('Messina, Martina', 'C', '13/07/2005')\n",
            "('Rasuk, Karim', 'C', '13/07/2007')\n",
            "('Rios, Lucia Magali', 'C', '22/09/2006')\n",
            "('Sanchez Flores, Matías Agustín', 'C', '15/02/2007')\n",
            "('Scarano, Renato Marcelo', 'C', '06/12/2006')\n",
            "('Sierra, Lucas Mauricio', 'C', '03/04/2005')\n",
            "('Tapia, Martin Gabriel', 'C', '30/05/2006')\n",
            "('Vilte, Mia Antonella Alondra', 'C', '10/09/2005')\n",
            "('Virgillito, Katya Milena', 'C', '19/06/2007')\n"
          ]
        }
      ]
    },
    {
      "cell_type": "markdown",
      "source": [
        "2. Genera una lista de diccionarios con los datos de las listas, donde las claves de los mismos serán:\n",
        "- \"apellido\"\n",
        "- \"nombre\"\n",
        "- \"curso\"\n",
        "- \"division\"\n",
        "- \"feha_de_nacimiento\"\n",
        "\n",
        "Muestra la información generada."
      ],
      "metadata": {
        "id": "dYEGkYZyLy9I"
      }
    },
    {
      "cell_type": "code",
      "source": [
        "#Actividad 2\n",
        "lista_alumnos=[]\n",
        "for alumno in estudiantes:\n",
        "  estudiante={}\n",
        "  nombre_y_apellido, division, fecha_nac = alumno\n",
        "  apellido,nombre=nombre_y_apellido.split(\",\")\n",
        "  nombre=nombre.lstrip()\n",
        "  estudiante[\"apellido\"]=apellido\n",
        "  estudiante[\"nombre\"]=nombre\n",
        "  estudiante[\"curso\"]=5\n",
        "  estudiante[\"division\"]=division\n",
        "  estudiante[\"feha_de_nacimiento\"]=fecha_nac\n",
        "  lista_alumnos.append(estudiante)\n",
        "for alumno in lista_alumnos:\n",
        "  print(alumno)"
      ],
      "metadata": {
        "colab": {
          "base_uri": "https://localhost:8080/"
        },
        "id": "ETjXcKWv5G5f",
        "outputId": "26371fc8-c387-4888-8d80-779013f4765f"
      },
      "execution_count": 3,
      "outputs": [
        {
          "output_type": "stream",
          "name": "stdout",
          "text": [
            "{'apellido': 'Alurralde', 'nombre': 'Solange Stefania', 'curso': 5, 'division': 'D', 'feha_de_nacimiento': '02/04/2007'}\n",
            "{'apellido': 'Alvarado', 'nombre': 'Ludmila Del Milagro', 'curso': 5, 'division': 'D', 'feha_de_nacimiento': '06/09/2006'}\n",
            "{'apellido': 'Angel', 'nombre': 'Camila Juliana', 'curso': 5, 'division': 'D', 'feha_de_nacimiento': '07/03/2007'}\n",
            "{'apellido': 'Arenas', 'nombre': 'Lucas Gabriel', 'curso': 5, 'division': 'D', 'feha_de_nacimiento': '26/06/2007'}\n",
            "{'apellido': 'Caseres', 'nombre': 'Maria Antonia', 'curso': 5, 'division': 'D', 'feha_de_nacimiento': '01/07/2006'}\n",
            "{'apellido': 'Castillo', 'nombre': 'Paulina Milagros', 'curso': 5, 'division': 'D', 'feha_de_nacimiento': '01/06/2007'}\n",
            "{'apellido': 'Correa Segovia', 'nombre': 'Hugo Mariano', 'curso': 5, 'division': 'D', 'feha_de_nacimiento': '04/12/2006'}\n",
            "{'apellido': 'D Elia', 'nombre': 'Alvaro Tadeo', 'curso': 5, 'division': 'D', 'feha_de_nacimiento': '27/08/2006'}\n",
            "{'apellido': 'Flores', 'nombre': 'Victoria Agustina', 'curso': 5, 'division': 'D', 'feha_de_nacimiento': '12/12/2006'}\n",
            "{'apellido': 'Geronimo Soriano', 'nombre': 'Lizzie Amaya', 'curso': 5, 'division': 'D', 'feha_de_nacimiento': '20/01/2007'}\n",
            "{'apellido': 'Guzman', 'nombre': 'Angélica Morena', 'curso': 5, 'division': 'D', 'feha_de_nacimiento': '11/04/2007'}\n",
            "{'apellido': 'Guzman', 'nombre': 'Jazmin Esmeralda Belen', 'curso': 5, 'division': 'D', 'feha_de_nacimiento': '31/07/2006'}\n",
            "{'apellido': 'Jaime', 'nombre': 'Anita Maria Belen', 'curso': 5, 'division': 'D', 'feha_de_nacimiento': '19/04/2007'}\n",
            "{'apellido': 'Lacour Polo', 'nombre': 'Nazarena', 'curso': 5, 'division': 'D', 'feha_de_nacimiento': '19/12/2005'}\n",
            "{'apellido': 'Lascano Guanca', 'nombre': 'Marcelo Fabricio', 'curso': 5, 'division': 'D', 'feha_de_nacimiento': '17/02/2006'}\n",
            "{'apellido': 'Lezcano', 'nombre': 'Celia Morena', 'curso': 5, 'division': 'D', 'feha_de_nacimiento': '01/07/2005'}\n",
            "{'apellido': 'Martinez', 'nombre': 'Tomas Andres', 'curso': 5, 'division': 'D', 'feha_de_nacimiento': '22/03/2007'}\n",
            "{'apellido': 'Portella Valdivia', 'nombre': 'Pedro Francisco', 'curso': 5, 'division': 'D', 'feha_de_nacimiento': '24/01/2007'}\n",
            "{'apellido': 'Retamal Cisneros', 'nombre': 'Zacarias Josue', 'curso': 5, 'division': 'D', 'feha_de_nacimiento': '24/02/2007'}\n",
            "{'apellido': 'Rosales', 'nombre': 'Francisco Gabriel', 'curso': 5, 'division': 'D', 'feha_de_nacimiento': '14/11/2006'}\n",
            "{'apellido': 'Salem Barba', 'nombre': 'Mahia', 'curso': 5, 'division': 'D', 'feha_de_nacimiento': '14/10/2005'}\n",
            "{'apellido': 'Soto Camara', 'nombre': 'Agustin Ignacio', 'curso': 5, 'division': 'D', 'feha_de_nacimiento': '07/11/2005'}\n",
            "{'apellido': 'Villalba', 'nombre': 'Irina', 'curso': 5, 'division': 'D', 'feha_de_nacimiento': '09/09/2006'}\n",
            "{'apellido': 'Voltolini', 'nombre': 'Emanuel Tobias', 'curso': 5, 'division': 'D', 'feha_de_nacimiento': '17/09/2006'}\n",
            "{'apellido': 'Zalazar', 'nombre': 'Santino Stefano', 'curso': 5, 'division': 'D', 'feha_de_nacimiento': '30/09/2006'}\n",
            "{'apellido': 'Abud Laspiur', 'nombre': 'Lourdes Mariel', 'curso': 5, 'division': 'C', 'feha_de_nacimiento': '05/12/2006'}\n",
            "{'apellido': 'Amador', 'nombre': 'Luana Micaela', 'curso': 5, 'division': 'C', 'feha_de_nacimiento': '09/12/2006'}\n",
            "{'apellido': 'Anaquin', 'nombre': 'Leonardo Ezequiel', 'curso': 5, 'division': 'C', 'feha_de_nacimiento': '06/09/2005'}\n",
            "{'apellido': 'Araoz Sanchez', 'nombre': 'Lautaro Nahuel', 'curso': 5, 'division': 'C', 'feha_de_nacimiento': '28/12/2005'}\n",
            "{'apellido': 'Argañaraz', 'nombre': 'Agostina Abril', 'curso': 5, 'division': 'C', 'feha_de_nacimiento': '11/10/2006'}\n",
            "{'apellido': 'Barrera', 'nombre': 'Matias Ezequiel', 'curso': 5, 'division': 'C', 'feha_de_nacimiento': '27/02/2007'}\n",
            "{'apellido': 'Barrozo Vedia', 'nombre': 'Joaquin Nicolas', 'curso': 5, 'division': 'C', 'feha_de_nacimiento': '15/04/2006'}\n",
            "{'apellido': 'Bettinelli', 'nombre': 'Valentino', 'curso': 5, 'division': 'C', 'feha_de_nacimiento': '12/07/2006'}\n",
            "{'apellido': 'Bracamonte Martinez', 'nombre': 'Salvador', 'curso': 5, 'division': 'C', 'feha_de_nacimiento': '02/11/2005'}\n",
            "{'apellido': 'Colque Rivero', 'nombre': 'Ariana Zoe Del Valle', 'curso': 5, 'division': 'C', 'feha_de_nacimiento': '27/12/2006'}\n",
            "{'apellido': 'Diaz', 'nombre': 'Dulce Maitena', 'curso': 5, 'division': 'C', 'feha_de_nacimiento': '11/12/2006'}\n",
            "{'apellido': 'Figueroa', 'nombre': 'Santino Josue', 'curso': 5, 'division': 'C', 'feha_de_nacimiento': '12/05/2007'}\n",
            "{'apellido': 'Flores Cardozo', 'nombre': 'Agustina Tiara', 'curso': 5, 'division': 'C', 'feha_de_nacimiento': '18/03/2006'}\n",
            "{'apellido': 'Gallo', 'nombre': 'Octavio Ismael', 'curso': 5, 'division': 'C', 'feha_de_nacimiento': '04/08/2006'}\n",
            "{'apellido': 'Galvan', 'nombre': 'Lourdes Yamila', 'curso': 5, 'division': 'C', 'feha_de_nacimiento': '19/08/2005'}\n",
            "{'apellido': 'Giangreco', 'nombre': 'Vitto Tomasso', 'curso': 5, 'division': 'C', 'feha_de_nacimiento': '21/03/2007'}\n",
            "{'apellido': 'Grancara', 'nombre': 'Martina Luna', 'curso': 5, 'division': 'C', 'feha_de_nacimiento': '15/12/2006'}\n",
            "{'apellido': 'Guanca', 'nombre': 'Sara Elizabeth', 'curso': 5, 'division': 'C', 'feha_de_nacimiento': '17/01/2007'}\n",
            "{'apellido': 'Lopez', 'nombre': 'Victoria Constanza', 'curso': 5, 'division': 'C', 'feha_de_nacimiento': '12/11/2007'}\n",
            "{'apellido': 'Mamani Garrido', 'nombre': 'Rosario Agostina', 'curso': 5, 'division': 'C', 'feha_de_nacimiento': '24/10/2006'}\n",
            "{'apellido': 'Marinaro', 'nombre': 'Martin Ezequiel', 'curso': 5, 'division': 'C', 'feha_de_nacimiento': '03/11/2006'}\n",
            "{'apellido': 'Merluzzi Dagum', 'nombre': 'Ignacio', 'curso': 5, 'division': 'C', 'feha_de_nacimiento': '22/12/2005'}\n",
            "{'apellido': 'Messina', 'nombre': 'Martina', 'curso': 5, 'division': 'C', 'feha_de_nacimiento': '13/07/2005'}\n",
            "{'apellido': 'Rasuk', 'nombre': 'Karim', 'curso': 5, 'division': 'C', 'feha_de_nacimiento': '13/07/2007'}\n",
            "{'apellido': 'Rios', 'nombre': 'Lucia Magali', 'curso': 5, 'division': 'C', 'feha_de_nacimiento': '22/09/2006'}\n",
            "{'apellido': 'Sanchez Flores', 'nombre': 'Matías Agustín', 'curso': 5, 'division': 'C', 'feha_de_nacimiento': '15/02/2007'}\n",
            "{'apellido': 'Scarano', 'nombre': 'Renato Marcelo', 'curso': 5, 'division': 'C', 'feha_de_nacimiento': '06/12/2006'}\n",
            "{'apellido': 'Sierra', 'nombre': 'Lucas Mauricio', 'curso': 5, 'division': 'C', 'feha_de_nacimiento': '03/04/2005'}\n",
            "{'apellido': 'Tapia', 'nombre': 'Martin Gabriel', 'curso': 5, 'division': 'C', 'feha_de_nacimiento': '30/05/2006'}\n",
            "{'apellido': 'Vilte', 'nombre': 'Mia Antonella Alondra', 'curso': 5, 'division': 'C', 'feha_de_nacimiento': '10/09/2005'}\n",
            "{'apellido': 'Virgillito', 'nombre': 'Katya Milena', 'curso': 5, 'division': 'C', 'feha_de_nacimiento': '19/06/2007'}\n"
          ]
        }
      ]
    },
    {
      "cell_type": "markdown",
      "source": [
        "3. Genera un diccionario en python, en donde la clave sea cada nombre que aparece en las listas y el valor será la cantidad de veces que se encuentra el mismo.\n",
        "Para este punto es posible fusionar ambas listas en una sola, recordá que hay un método que realiza esta acción.\n",
        "\n",
        "Mostrá la informacion generada"
      ],
      "metadata": {
        "id": "UW2dlBsGMAte"
      }
    },
    {
      "cell_type": "code",
      "source": [
        "#necesitas ejecutar estudiantes primero\n",
        "#no se porq no aparece mi nombre\n",
        "contador={}\n",
        "for estudiante in estudiantes:\n",
        "  nombre_y_apellido, division, fecha_nac = estudiante\n",
        "  apellido,nombre = nombre_y_apellido.split(\",\")\n",
        "  nombre = nombre.lstrip()\n",
        "  nombres = nombre.replace(\",\",\"\").split()\n",
        "  for nombre_roto in nombres:\n",
        "    if nombre_roto in contador.keys():\n",
        "      contador[nombre_roto] += 1\n",
        "    else:\n",
        "      contador[nombre_roto] = 1\n",
        "for  nombre,veces in contador.items():\n",
        "  print(f\"{nombre} aparece {veces} veces en la lista\")"
      ],
      "metadata": {
        "colab": {
          "base_uri": "https://localhost:8080/"
        },
        "id": "l99la2205fOL",
        "outputId": "0647c131-abbb-4336-db57-203421dcda69"
      },
      "execution_count": 4,
      "outputs": [
        {
          "output_type": "stream",
          "name": "stdout",
          "text": [
            "Solange aparece 1 veces en la lista\n",
            "Stefania aparece 1 veces en la lista\n",
            "Ludmila aparece 1 veces en la lista\n",
            "Del aparece 2 veces en la lista\n",
            "Milagro aparece 1 veces en la lista\n",
            "Camila aparece 1 veces en la lista\n",
            "Juliana aparece 1 veces en la lista\n",
            "Lucas aparece 2 veces en la lista\n",
            "Gabriel aparece 3 veces en la lista\n",
            "Maria aparece 2 veces en la lista\n",
            "Antonia aparece 1 veces en la lista\n",
            "Paulina aparece 1 veces en la lista\n",
            "Milagros aparece 1 veces en la lista\n",
            "Hugo aparece 1 veces en la lista\n",
            "Mariano aparece 1 veces en la lista\n",
            "Alvaro aparece 1 veces en la lista\n",
            "Tadeo aparece 1 veces en la lista\n",
            "Victoria aparece 2 veces en la lista\n",
            "Agustina aparece 2 veces en la lista\n",
            "Lizzie aparece 1 veces en la lista\n",
            "Amaya aparece 1 veces en la lista\n",
            "Angélica aparece 1 veces en la lista\n",
            "Morena aparece 2 veces en la lista\n",
            "Jazmin aparece 1 veces en la lista\n",
            "Esmeralda aparece 1 veces en la lista\n",
            "Belen aparece 2 veces en la lista\n",
            "Anita aparece 1 veces en la lista\n",
            "Nazarena aparece 1 veces en la lista\n",
            "Marcelo aparece 2 veces en la lista\n",
            "Fabricio aparece 1 veces en la lista\n",
            "Celia aparece 1 veces en la lista\n",
            "Tomas aparece 1 veces en la lista\n",
            "Andres aparece 1 veces en la lista\n",
            "Pedro aparece 1 veces en la lista\n",
            "Francisco aparece 2 veces en la lista\n",
            "Zacarias aparece 1 veces en la lista\n",
            "Josue aparece 2 veces en la lista\n",
            "Mahia aparece 1 veces en la lista\n",
            "Agustin aparece 1 veces en la lista\n",
            "Ignacio aparece 2 veces en la lista\n",
            "Irina aparece 1 veces en la lista\n",
            "Emanuel aparece 1 veces en la lista\n",
            "Tobias aparece 1 veces en la lista\n",
            "Santino aparece 2 veces en la lista\n",
            "Stefano aparece 1 veces en la lista\n",
            "Lourdes aparece 2 veces en la lista\n",
            "Mariel aparece 1 veces en la lista\n",
            "Luana aparece 1 veces en la lista\n",
            "Micaela aparece 1 veces en la lista\n",
            "Leonardo aparece 1 veces en la lista\n",
            "Ezequiel aparece 3 veces en la lista\n",
            "Lautaro aparece 1 veces en la lista\n",
            "Nahuel aparece 1 veces en la lista\n",
            "Agostina aparece 2 veces en la lista\n",
            "Abril aparece 1 veces en la lista\n",
            "Matias aparece 1 veces en la lista\n",
            "Joaquin aparece 1 veces en la lista\n",
            "Nicolas aparece 1 veces en la lista\n",
            "Valentino aparece 1 veces en la lista\n",
            "Salvador aparece 1 veces en la lista\n",
            "Ariana aparece 1 veces en la lista\n",
            "Zoe aparece 1 veces en la lista\n",
            "Valle aparece 1 veces en la lista\n",
            "Dulce aparece 1 veces en la lista\n",
            "Maitena aparece 1 veces en la lista\n",
            "Tiara aparece 1 veces en la lista\n",
            "Octavio aparece 1 veces en la lista\n",
            "Ismael aparece 1 veces en la lista\n",
            "Yamila aparece 1 veces en la lista\n",
            "Vitto aparece 1 veces en la lista\n",
            "Tomasso aparece 1 veces en la lista\n",
            "Martina aparece 2 veces en la lista\n",
            "Luna aparece 1 veces en la lista\n",
            "Sara aparece 1 veces en la lista\n",
            "Elizabeth aparece 1 veces en la lista\n",
            "Constanza aparece 1 veces en la lista\n",
            "Rosario aparece 1 veces en la lista\n",
            "Martin aparece 2 veces en la lista\n",
            "Karim aparece 1 veces en la lista\n",
            "Lucia aparece 1 veces en la lista\n",
            "Magali aparece 1 veces en la lista\n",
            "Matías aparece 1 veces en la lista\n",
            "Agustín aparece 1 veces en la lista\n",
            "Renato aparece 1 veces en la lista\n",
            "Mauricio aparece 1 veces en la lista\n",
            "Mia aparece 1 veces en la lista\n",
            "Antonella aparece 1 veces en la lista\n",
            "Alondra aparece 1 veces en la lista\n",
            "Katya aparece 1 veces en la lista\n",
            "Milena aparece 1 veces en la lista\n"
          ]
        }
      ]
    },
    {
      "cell_type": "code",
      "source": [
        "nombres = {}\n",
        "for estudiante in estudiantes:\n",
        "  nombre, division, fecha_nac = estudiante\n",
        "  lista_nombres = nombre.replace(\",\",\"\").split()\n",
        "  for un_nombre in lista_nombres:\n",
        "    if un_nombre in nombres.keys():\n",
        "      nombres[un_nombre] += 1\n",
        "    else:\n",
        "      nombres[un_nombre] = 1\n",
        "for  nombre,veces in nombres.items():\n",
        "  print(f\"El nombre {nombre} apareció {veces} veces\")"
      ],
      "metadata": {
        "id": "EawAy4SANtkl",
        "outputId": "6eb8d685-eac9-474a-ed80-cea7d7e27d39",
        "colab": {
          "base_uri": "https://localhost:8080/"
        }
      },
      "execution_count": null,
      "outputs": [
        {
          "output_type": "stream",
          "name": "stdout",
          "text": [
            "El nombre Abud apareció 1 veces\n",
            "El nombre Laspiur apareció 1 veces\n",
            "El nombre Lourdes apareció 2 veces\n",
            "El nombre Mariel apareció 1 veces\n",
            "El nombre Amador apareció 1 veces\n",
            "El nombre Luana apareció 1 veces\n",
            "El nombre Micaela apareció 1 veces\n",
            "El nombre Anaquin apareció 1 veces\n",
            "El nombre Leonardo apareció 1 veces\n",
            "El nombre Ezequiel apareció 3 veces\n",
            "El nombre Araoz apareció 1 veces\n",
            "El nombre Sanchez apareció 2 veces\n",
            "El nombre Lautaro apareció 1 veces\n",
            "El nombre Nahuel apareció 1 veces\n",
            "El nombre Argañaraz apareció 1 veces\n",
            "El nombre Agostina apareció 2 veces\n",
            "El nombre Abril apareció 1 veces\n",
            "El nombre Barrera apareció 1 veces\n",
            "El nombre Matias apareció 1 veces\n",
            "El nombre Barrozo apareció 1 veces\n",
            "El nombre Vedia apareció 1 veces\n",
            "El nombre Joaquin apareció 1 veces\n",
            "El nombre Nicolas apareció 1 veces\n",
            "El nombre Bettinelli apareció 1 veces\n",
            "El nombre Valentino apareció 1 veces\n",
            "El nombre Bracamonte apareció 1 veces\n",
            "El nombre Martinez apareció 2 veces\n",
            "El nombre Salvador apareció 1 veces\n",
            "El nombre Colque apareció 1 veces\n",
            "El nombre Rivero apareció 1 veces\n",
            "El nombre Ariana apareció 1 veces\n",
            "El nombre Zoe apareció 1 veces\n",
            "El nombre Del apareció 2 veces\n",
            "El nombre Valle apareció 1 veces\n",
            "El nombre Diaz apareció 1 veces\n",
            "El nombre Dulce apareció 1 veces\n",
            "El nombre Maitena apareció 1 veces\n",
            "El nombre Figueroa apareció 1 veces\n",
            "El nombre Santino apareció 2 veces\n",
            "El nombre Josue apareció 2 veces\n",
            "El nombre Flores apareció 3 veces\n",
            "El nombre Cardozo apareció 1 veces\n",
            "El nombre Agustina apareció 2 veces\n",
            "El nombre Tiara apareció 1 veces\n",
            "El nombre Gallo apareció 1 veces\n",
            "El nombre Octavio apareció 1 veces\n",
            "El nombre Ismael apareció 1 veces\n",
            "El nombre Galvan apareció 1 veces\n",
            "El nombre Yamila apareció 1 veces\n",
            "El nombre Giangreco apareció 1 veces\n",
            "El nombre Vitto apareció 1 veces\n",
            "El nombre Tomasso apareció 1 veces\n",
            "El nombre Grancara apareció 1 veces\n",
            "El nombre Martina apareció 2 veces\n",
            "El nombre Luna apareció 1 veces\n",
            "El nombre Guanca apareció 2 veces\n",
            "El nombre Sara apareció 1 veces\n",
            "El nombre Elizabeth apareció 1 veces\n",
            "El nombre Lopez apareció 1 veces\n",
            "El nombre Victoria apareció 2 veces\n",
            "El nombre Constanza apareció 1 veces\n",
            "El nombre Mamani apareció 1 veces\n",
            "El nombre Garrido apareció 1 veces\n",
            "El nombre Rosario apareció 1 veces\n",
            "El nombre Marinaro apareció 1 veces\n",
            "El nombre Martin apareció 2 veces\n",
            "El nombre Merluzzi apareció 1 veces\n",
            "El nombre Dagum apareció 1 veces\n",
            "El nombre Ignacio apareció 2 veces\n",
            "El nombre Messina apareció 1 veces\n",
            "El nombre Rasuk apareció 1 veces\n",
            "El nombre Karim apareció 1 veces\n",
            "El nombre Rios apareció 1 veces\n",
            "El nombre Lucia apareció 1 veces\n",
            "El nombre Magali apareció 1 veces\n",
            "El nombre Matías apareció 1 veces\n",
            "El nombre Agustín apareció 1 veces\n",
            "El nombre Scarano apareció 1 veces\n",
            "El nombre Renato apareció 1 veces\n",
            "El nombre Marcelo apareció 2 veces\n",
            "El nombre Sierra apareció 1 veces\n",
            "El nombre Lucas apareció 2 veces\n",
            "El nombre Mauricio apareció 1 veces\n",
            "El nombre Tapia apareció 1 veces\n",
            "El nombre Gabriel apareció 3 veces\n",
            "El nombre Vilte apareció 1 veces\n",
            "El nombre Mia apareció 1 veces\n",
            "El nombre Antonella apareció 1 veces\n",
            "El nombre Alondra apareció 1 veces\n",
            "El nombre Virgillito apareció 1 veces\n",
            "El nombre Katya apareció 1 veces\n",
            "El nombre Milena apareció 1 veces\n",
            "El nombre Alurralde apareció 1 veces\n",
            "El nombre Solange apareció 1 veces\n",
            "El nombre Stefania apareció 1 veces\n",
            "El nombre Alvarado apareció 1 veces\n",
            "El nombre Ludmila apareció 1 veces\n",
            "El nombre Milagro apareció 1 veces\n",
            "El nombre Angel apareció 1 veces\n",
            "El nombre Camila apareció 1 veces\n",
            "El nombre Juliana apareció 1 veces\n",
            "El nombre Arenas apareció 1 veces\n",
            "El nombre Caseres apareció 1 veces\n",
            "El nombre Maria apareció 2 veces\n",
            "El nombre Antonia apareció 1 veces\n",
            "El nombre Castillo apareció 1 veces\n",
            "El nombre Paulina apareció 1 veces\n",
            "El nombre Milagros apareció 1 veces\n",
            "El nombre Correa apareció 1 veces\n",
            "El nombre Segovia apareció 1 veces\n",
            "El nombre Hugo apareció 1 veces\n",
            "El nombre Mariano apareció 1 veces\n",
            "El nombre D apareció 1 veces\n",
            "El nombre Elia apareció 1 veces\n",
            "El nombre Alvaro apareció 1 veces\n",
            "El nombre Tadeo apareció 1 veces\n",
            "El nombre Geronimo apareció 1 veces\n",
            "El nombre Soriano apareció 1 veces\n",
            "El nombre Lizzie apareció 1 veces\n",
            "El nombre Amaya apareció 1 veces\n",
            "El nombre Guzman apareció 2 veces\n",
            "El nombre Angélica apareció 1 veces\n",
            "El nombre Morena apareció 2 veces\n",
            "El nombre Jazmin apareció 1 veces\n",
            "El nombre Esmeralda apareció 1 veces\n",
            "El nombre Belen apareció 2 veces\n",
            "El nombre Jaime apareció 1 veces\n",
            "El nombre Anita apareció 1 veces\n",
            "El nombre Lacour apareció 1 veces\n",
            "El nombre Polo apareció 1 veces\n",
            "El nombre Nazarena apareció 1 veces\n",
            "El nombre Lascano apareció 1 veces\n",
            "El nombre Fabricio apareció 1 veces\n",
            "El nombre Lezcano apareció 1 veces\n",
            "El nombre Celia apareció 1 veces\n",
            "El nombre Tomas apareció 1 veces\n",
            "El nombre Andres apareció 1 veces\n",
            "El nombre Portella apareció 1 veces\n",
            "El nombre Valdivia apareció 1 veces\n",
            "El nombre Pedro apareció 1 veces\n",
            "El nombre Francisco apareció 2 veces\n",
            "El nombre Retamal apareció 1 veces\n",
            "El nombre Cisneros apareció 1 veces\n",
            "El nombre Zacarias apareció 1 veces\n",
            "El nombre Rosales apareció 1 veces\n",
            "El nombre Salem apareció 1 veces\n",
            "El nombre Barba apareció 1 veces\n",
            "El nombre Mahia apareció 1 veces\n",
            "El nombre Soto apareció 1 veces\n",
            "El nombre Camara apareció 1 veces\n",
            "El nombre Agustin apareció 1 veces\n",
            "El nombre Villalba apareció 1 veces\n",
            "El nombre Irina apareció 1 veces\n",
            "El nombre Voltolini apareció 1 veces\n",
            "El nombre Emanuel apareció 1 veces\n",
            "El nombre Tobias apareció 1 veces\n",
            "El nombre Zalazar apareció 1 veces\n",
            "El nombre Stefano apareció 1 veces\n"
          ]
        }
      ]
    },
    {
      "cell_type": "markdown",
      "source": [
        "4. Genera un diccionario en python, en donde la clave sea cada apellido que aparece en las listas y el valor será la cantidad de veces que se encuentra el mismo.\n",
        "Para este punto es posible fusionar ambas listas en una sola, recordá que hay un método que realiza esta acción."
      ],
      "metadata": {
        "id": "kZeEHUYVNwGV"
      }
    },
    {
      "cell_type": "code",
      "source": [
        "#Actividad 4\n",
        "contador_apellido={}\n",
        "for estudiante in estudiantes:\n",
        "  nombre_y_apellido, division, fecha_nac = estudiante\n",
        "  apellido,nombre = nombre_y_apellido.split(\",\")\n",
        "  apellido = apellido.lstrip()\n",
        "  apellidos = apellido.replace(\",\",\"\").split()\n",
        "  for apellido_roto in apellidos:\n",
        "    if apellido_roto in contador_apellido.keys():\n",
        "      contador_apellido[apellido_roto] += 1\n",
        "    else:\n",
        "      contador_apellido[apellido_roto] = 1\n",
        "for  apellido,veces in contador.items():\n",
        "  print(f\"{apellido} aparece {veces} veces en la lista\")"
      ],
      "metadata": {
        "id": "q05GnxXgORzt",
        "colab": {
          "base_uri": "https://localhost:8080/"
        },
        "outputId": "6d105002-5d99-486a-c46c-1705b47d76bd"
      },
      "execution_count": 5,
      "outputs": [
        {
          "output_type": "stream",
          "name": "stdout",
          "text": [
            "Solange aparece 1 veces en la lista\n",
            "Stefania aparece 1 veces en la lista\n",
            "Ludmila aparece 1 veces en la lista\n",
            "Del aparece 2 veces en la lista\n",
            "Milagro aparece 1 veces en la lista\n",
            "Camila aparece 1 veces en la lista\n",
            "Juliana aparece 1 veces en la lista\n",
            "Lucas aparece 2 veces en la lista\n",
            "Gabriel aparece 3 veces en la lista\n",
            "Maria aparece 2 veces en la lista\n",
            "Antonia aparece 1 veces en la lista\n",
            "Paulina aparece 1 veces en la lista\n",
            "Milagros aparece 1 veces en la lista\n",
            "Hugo aparece 1 veces en la lista\n",
            "Mariano aparece 1 veces en la lista\n",
            "Alvaro aparece 1 veces en la lista\n",
            "Tadeo aparece 1 veces en la lista\n",
            "Victoria aparece 2 veces en la lista\n",
            "Agustina aparece 2 veces en la lista\n",
            "Lizzie aparece 1 veces en la lista\n",
            "Amaya aparece 1 veces en la lista\n",
            "Angélica aparece 1 veces en la lista\n",
            "Morena aparece 2 veces en la lista\n",
            "Jazmin aparece 1 veces en la lista\n",
            "Esmeralda aparece 1 veces en la lista\n",
            "Belen aparece 2 veces en la lista\n",
            "Anita aparece 1 veces en la lista\n",
            "Nazarena aparece 1 veces en la lista\n",
            "Marcelo aparece 2 veces en la lista\n",
            "Fabricio aparece 1 veces en la lista\n",
            "Celia aparece 1 veces en la lista\n",
            "Tomas aparece 1 veces en la lista\n",
            "Andres aparece 1 veces en la lista\n",
            "Pedro aparece 1 veces en la lista\n",
            "Francisco aparece 2 veces en la lista\n",
            "Zacarias aparece 1 veces en la lista\n",
            "Josue aparece 2 veces en la lista\n",
            "Mahia aparece 1 veces en la lista\n",
            "Agustin aparece 1 veces en la lista\n",
            "Ignacio aparece 2 veces en la lista\n",
            "Irina aparece 1 veces en la lista\n",
            "Emanuel aparece 1 veces en la lista\n",
            "Tobias aparece 1 veces en la lista\n",
            "Santino aparece 2 veces en la lista\n",
            "Stefano aparece 1 veces en la lista\n",
            "Lourdes aparece 2 veces en la lista\n",
            "Mariel aparece 1 veces en la lista\n",
            "Luana aparece 1 veces en la lista\n",
            "Micaela aparece 1 veces en la lista\n",
            "Leonardo aparece 1 veces en la lista\n",
            "Ezequiel aparece 3 veces en la lista\n",
            "Lautaro aparece 1 veces en la lista\n",
            "Nahuel aparece 1 veces en la lista\n",
            "Agostina aparece 2 veces en la lista\n",
            "Abril aparece 1 veces en la lista\n",
            "Matias aparece 1 veces en la lista\n",
            "Joaquin aparece 1 veces en la lista\n",
            "Nicolas aparece 1 veces en la lista\n",
            "Valentino aparece 1 veces en la lista\n",
            "Salvador aparece 1 veces en la lista\n",
            "Ariana aparece 1 veces en la lista\n",
            "Zoe aparece 1 veces en la lista\n",
            "Valle aparece 1 veces en la lista\n",
            "Dulce aparece 1 veces en la lista\n",
            "Maitena aparece 1 veces en la lista\n",
            "Tiara aparece 1 veces en la lista\n",
            "Octavio aparece 1 veces en la lista\n",
            "Ismael aparece 1 veces en la lista\n",
            "Yamila aparece 1 veces en la lista\n",
            "Vitto aparece 1 veces en la lista\n",
            "Tomasso aparece 1 veces en la lista\n",
            "Martina aparece 2 veces en la lista\n",
            "Luna aparece 1 veces en la lista\n",
            "Sara aparece 1 veces en la lista\n",
            "Elizabeth aparece 1 veces en la lista\n",
            "Constanza aparece 1 veces en la lista\n",
            "Rosario aparece 1 veces en la lista\n",
            "Martin aparece 2 veces en la lista\n",
            "Karim aparece 1 veces en la lista\n",
            "Lucia aparece 1 veces en la lista\n",
            "Magali aparece 1 veces en la lista\n",
            "Matías aparece 1 veces en la lista\n",
            "Agustín aparece 1 veces en la lista\n",
            "Renato aparece 1 veces en la lista\n",
            "Mauricio aparece 1 veces en la lista\n",
            "Mia aparece 1 veces en la lista\n",
            "Antonella aparece 1 veces en la lista\n",
            "Alondra aparece 1 veces en la lista\n",
            "Katya aparece 1 veces en la lista\n",
            "Milena aparece 1 veces en la lista\n"
          ]
        }
      ]
    },
    {
      "cell_type": "markdown",
      "source": [
        "5. Solicita al usuario que ingrese un apellido y muestra  a todos los estudiantes con ese apellido."
      ],
      "metadata": {
        "id": "ywYmA2JQNp3T"
      }
    },
    {
      "cell_type": "code",
      "source": [
        "#Actividad 5\n",
        "#puse mi lista \"lista_alumnos\"\n",
        "apellido=input(\"ingresa apellido\").title()\n",
        "for estudiante in lista_alumnos:\n",
        "  if apellido in estudiante[\"apellido\"]:\n",
        "    print(estudiante)"
      ],
      "metadata": {
        "id": "Cnp334ZrOCjK",
        "outputId": "ed5ae430-9cbe-443a-c306-1e991b8d4e1d",
        "colab": {
          "base_uri": "https://localhost:8080/"
        }
      },
      "execution_count": 6,
      "outputs": [
        {
          "output_type": "stream",
          "name": "stdout",
          "text": [
            "ingresa apellidoArenas\n",
            "{'apellido': 'Arenas', 'nombre': 'Lucas Gabriel', 'curso': 5, 'division': 'D', 'feha_de_nacimiento': '26/06/2007'}\n"
          ]
        }
      ]
    },
    {
      "cell_type": "markdown",
      "source": [
        "6. Solicita al usuario que ingrese un nombre y muestra a todos los estudiantes con el nombre ingresado."
      ],
      "metadata": {
        "id": "iAXts6saODoU"
      }
    },
    {
      "cell_type": "code",
      "source": [
        "#Actividad 6 RESUELTA\n",
        "nombre=input(\"ingresa nombre\").title()\n",
        "for estudiante in lista_alumnos:\n",
        "  if nombre in estudiante[\"nombre\"]:\n",
        "    print(estudiante)"
      ],
      "metadata": {
        "colab": {
          "base_uri": "https://localhost:8080/"
        },
        "id": "RrkXMPfg6EQz",
        "outputId": "6442e950-1c30-45b8-8cb1-0e541142bb19"
      },
      "execution_count": 7,
      "outputs": [
        {
          "output_type": "stream",
          "name": "stdout",
          "text": [
            "ingresa nombreLucas\n",
            "{'apellido': 'Arenas', 'nombre': 'Lucas Gabriel', 'curso': 5, 'division': 'D', 'feha_de_nacimiento': '26/06/2007'}\n",
            "{'apellido': 'Sierra', 'nombre': 'Lucas Mauricio', 'curso': 5, 'division': 'C', 'feha_de_nacimiento': '03/04/2005'}\n"
          ]
        }
      ]
    },
    {
      "cell_type": "code",
      "source": [
        "#Actividad 6\n",
        "#no me funciona, trate de solucionarlo pero no me dieron los tiempos profe\n",
        "#si puede arregle el bug\n",
        "# ESTE FUE UN BOCETO CON UNA LOGISTICA MUY RARA Y MIA; lo dejo para resolverlo algun dia jaja\n",
        "estudiantes=[]\n",
        "lista_nombres=[]\n",
        "estudiantes.extend(estudiantes_5d)\n",
        "estudiantes.extend(estudiantes_5c)\n",
        "encontrado = False\n",
        "for estudiante in estudiantes:\n",
        "  nombre_y_apellido, division, fecha_nac = estudiante\n",
        "  apellido,nombre = nombre_y_apellido.split(\",\")\n",
        "  nombre = nombre.lstrip()\n",
        "  nombres = nombre.replace(\",\",\"\").split()\n",
        "  lista_nombres.append(nombres)\n",
        "  while encontrado==False:\n",
        "    nombre_ingresado=input(\"ingresa nombre\").title()\n",
        "    for estudiante in lista_nombres:\n",
        "      if nombre_ingresado in estudiante:\n",
        "        print(estudiante)\n",
        "        encontrado=True\n",
        "      else:\n",
        "        encontrado=False\n",
        "        print(f\"no esta {nombre_ingresado}\")"
      ],
      "metadata": {
        "id": "FMRsUlvtOJS_"
      },
      "execution_count": null,
      "outputs": []
    },
    {
      "cell_type": "markdown",
      "source": [
        "7. Busca el diccionario con tu información dentro de la lista y cámbiate de división, de tal manera que si estas en 5C, con el cambio quedes en 5D y viceversa."
      ],
      "metadata": {
        "id": "T4PFiwwdOK27"
      }
    },
    {
      "cell_type": "code",
      "source": [
        "#Actividad 7 cambiandome YO de division\n",
        "for estudiante in lista_alumnos:\n",
        "  if estudiante[\"nombre\"]==\"Lucas Gabriel\" and estudiante[\"apellido\"]==\"Arenas\":\n",
        "    if estudiante[\"division\"]==\"D\":\n",
        "      estudiante[\"division\"]=\"C\"\n",
        "    else:\n",
        "      estudiante[\"division\"]=\"D\"\n",
        "    print(f\"¿porque me cambiaste de division?, soy {estudiante['nombre']} {estudiante['apellido']} y me mandaste a {estudiante['division']}\")\n",
        "    break\n",
        "\n",
        "#Actividad 7 con input para pruebas y que cualquiera se pueda cambiar\n",
        "\n",
        "nombre_ingresado= input(\"Ingresa tu nombre\").title()\n",
        "apellido_ingresado=input(\"Ingresa tu apellido\").title()\n",
        "\n",
        "for estudiante in lista_alumnos:\n",
        "  if estudiante[\"nombre\"]==nombre_ingresado and estudiante[\"apellido\"]==apellido_ingresado:\n",
        "    if estudiante[\"division\"]==\"D\":\n",
        "      estudiante[\"division\"]=\"C\"\n",
        "    else:\n",
        "      estudiante[\"division\"]=\"D\"\n",
        "    print(f\"cambiaste la division de {estudiante['nombre']} {estudiante['apellido']} a {estudiante['division']}\")\n",
        "    break\n"
      ],
      "metadata": {
        "id": "bNbPyBii61wn",
        "outputId": "ee799c23-1eed-40b0-ba88-2113844cdff5",
        "colab": {
          "base_uri": "https://localhost:8080/"
        }
      },
      "execution_count": 9,
      "outputs": [
        {
          "name": "stdout",
          "output_type": "stream",
          "text": [
            "¿porque me cambiaste de division?, soy Lucas Gabriel Arenas y me mandaste a C\n",
            "Ingresa tu nombreFranciso Gabriel\n",
            "Ingresa tu apellidoRosales\n"
          ]
        }
      ]
    },
    {
      "cell_type": "markdown",
      "source": [
        "8. Ordenar la lista alfabeticamente por nombre. Ascendente y descendentemente. Para elegir como ordenarla, mostrar un menú donde el usuario podrá decidir como quiere ver la salida."
      ],
      "metadata": {
        "id": "xfy8SFlZRVGf"
      }
    },
    {
      "cell_type": "code",
      "source": [
        "#Actividad 8\n",
        "#como lo saque de chat gpt, me di cuenta que hizo re raro el metodo sort, metiendo coordenadas o nose, ahora e acorde de los argumentos que necesitaba que dijo en clase y lo hice yo\n",
        "print(\"\"\"\n",
        "1. Ordenar alfabeticamente por nombre de manera ascendente\n",
        "2. Ordenar alfabeticamente por nombre de manera descendente\n",
        "\"\"\")\n",
        "opcion=int(input(\"Ingrese una opcion: \"))\n",
        "if opcion == 1:\n",
        "  estudiantes_5d.sort(key=lambda x: x['nombre'])\n",
        "else:\n",
        "  estudiantes_5d.sort(key=lambda x: x['nombre'], reverse=True)\n",
        "\n",
        "if opcion == 1:\n",
        "  estudiantes_5c.sort(key=lambda x: x['nombre'])\n",
        "else:\n",
        "  estudiantes_5c.sort(key=lambda x: x['nombre'], reverse=True)\n",
        "\n",
        "\n",
        "print(\"\"\"\n",
        "1. Salida en lista\n",
        "2. Salida en diccionario\n",
        "\"\"\")\n",
        "opcion_b = int(input(\"Ingrese una opcion: \"))\n",
        "if opcion_b == 1:\n",
        "  print(\"Estudiantes 5D:\", [estudiante['nombre'] for estudiante in estudiantes_5d])\n",
        "  print(\"Estudiantes 5C:\", [estudiante['nombre'] for estudiante in estudiantes_5c])\n",
        "else:\n",
        "  for estudiante in estudiantes_5d:\n",
        "    print(estudiante)\n",
        "  for estudiante in estudiantes_5c:\n",
        "    print(estudiante)"
      ],
      "metadata": {
        "id": "E4Onk1FNRUa2",
        "colab": {
          "base_uri": "https://localhost:8080/",
          "height": 419
        },
        "outputId": "252e4531-293c-421d-91dd-14bc31e6df2e"
      },
      "execution_count": 10,
      "outputs": [
        {
          "name": "stdout",
          "output_type": "stream",
          "text": [
            "\n",
            "1. Ordenar alfabeticamente por nombre de manera ascendente\n",
            "2. Ordenar alfabeticamente por nombre de manera descendente\n",
            "\n",
            "Ingrese una opcion: 1\n"
          ]
        },
        {
          "output_type": "error",
          "ename": "TypeError",
          "evalue": "tuple indices must be integers or slices, not str",
          "traceback": [
            "\u001b[0;31m---------------------------------------------------------------------------\u001b[0m",
            "\u001b[0;31mTypeError\u001b[0m                                 Traceback (most recent call last)",
            "\u001b[0;32m<ipython-input-10-46e613d72f45>\u001b[0m in \u001b[0;36m<cell line: 7>\u001b[0;34m()\u001b[0m\n\u001b[1;32m      6\u001b[0m \u001b[0mopcion\u001b[0m\u001b[0;34m=\u001b[0m\u001b[0mint\u001b[0m\u001b[0;34m(\u001b[0m\u001b[0minput\u001b[0m\u001b[0;34m(\u001b[0m\u001b[0;34m\"Ingrese una opcion: \"\u001b[0m\u001b[0;34m)\u001b[0m\u001b[0;34m)\u001b[0m\u001b[0;34m\u001b[0m\u001b[0;34m\u001b[0m\u001b[0m\n\u001b[1;32m      7\u001b[0m \u001b[0;32mif\u001b[0m \u001b[0mopcion\u001b[0m \u001b[0;34m==\u001b[0m \u001b[0;36m1\u001b[0m\u001b[0;34m:\u001b[0m\u001b[0;34m\u001b[0m\u001b[0;34m\u001b[0m\u001b[0m\n\u001b[0;32m----> 8\u001b[0;31m   \u001b[0mestudiantes_5d\u001b[0m\u001b[0;34m.\u001b[0m\u001b[0msort\u001b[0m\u001b[0;34m(\u001b[0m\u001b[0mkey\u001b[0m\u001b[0;34m=\u001b[0m\u001b[0;32mlambda\u001b[0m \u001b[0mx\u001b[0m\u001b[0;34m:\u001b[0m \u001b[0mx\u001b[0m\u001b[0;34m[\u001b[0m\u001b[0;34m'nombre'\u001b[0m\u001b[0;34m]\u001b[0m\u001b[0;34m)\u001b[0m\u001b[0;34m\u001b[0m\u001b[0;34m\u001b[0m\u001b[0m\n\u001b[0m\u001b[1;32m      9\u001b[0m \u001b[0;32melse\u001b[0m\u001b[0;34m:\u001b[0m\u001b[0;34m\u001b[0m\u001b[0;34m\u001b[0m\u001b[0m\n\u001b[1;32m     10\u001b[0m   \u001b[0mestudiantes_5d\u001b[0m\u001b[0;34m.\u001b[0m\u001b[0msort\u001b[0m\u001b[0;34m(\u001b[0m\u001b[0mkey\u001b[0m\u001b[0;34m=\u001b[0m\u001b[0;32mlambda\u001b[0m \u001b[0mx\u001b[0m\u001b[0;34m:\u001b[0m \u001b[0mx\u001b[0m\u001b[0;34m[\u001b[0m\u001b[0;34m'nombre'\u001b[0m\u001b[0;34m]\u001b[0m\u001b[0;34m,\u001b[0m \u001b[0mreverse\u001b[0m\u001b[0;34m=\u001b[0m\u001b[0;32mTrue\u001b[0m\u001b[0;34m)\u001b[0m\u001b[0;34m\u001b[0m\u001b[0;34m\u001b[0m\u001b[0m\n",
            "\u001b[0;32m<ipython-input-10-46e613d72f45>\u001b[0m in \u001b[0;36m<lambda>\u001b[0;34m(x)\u001b[0m\n\u001b[1;32m      6\u001b[0m \u001b[0mopcion\u001b[0m\u001b[0;34m=\u001b[0m\u001b[0mint\u001b[0m\u001b[0;34m(\u001b[0m\u001b[0minput\u001b[0m\u001b[0;34m(\u001b[0m\u001b[0;34m\"Ingrese una opcion: \"\u001b[0m\u001b[0;34m)\u001b[0m\u001b[0;34m)\u001b[0m\u001b[0;34m\u001b[0m\u001b[0;34m\u001b[0m\u001b[0m\n\u001b[1;32m      7\u001b[0m \u001b[0;32mif\u001b[0m \u001b[0mopcion\u001b[0m \u001b[0;34m==\u001b[0m \u001b[0;36m1\u001b[0m\u001b[0;34m:\u001b[0m\u001b[0;34m\u001b[0m\u001b[0;34m\u001b[0m\u001b[0m\n\u001b[0;32m----> 8\u001b[0;31m   \u001b[0mestudiantes_5d\u001b[0m\u001b[0;34m.\u001b[0m\u001b[0msort\u001b[0m\u001b[0;34m(\u001b[0m\u001b[0mkey\u001b[0m\u001b[0;34m=\u001b[0m\u001b[0;32mlambda\u001b[0m \u001b[0mx\u001b[0m\u001b[0;34m:\u001b[0m \u001b[0mx\u001b[0m\u001b[0;34m[\u001b[0m\u001b[0;34m'nombre'\u001b[0m\u001b[0;34m]\u001b[0m\u001b[0;34m)\u001b[0m\u001b[0;34m\u001b[0m\u001b[0;34m\u001b[0m\u001b[0m\n\u001b[0m\u001b[1;32m      9\u001b[0m \u001b[0;32melse\u001b[0m\u001b[0;34m:\u001b[0m\u001b[0;34m\u001b[0m\u001b[0;34m\u001b[0m\u001b[0m\n\u001b[1;32m     10\u001b[0m   \u001b[0mestudiantes_5d\u001b[0m\u001b[0;34m.\u001b[0m\u001b[0msort\u001b[0m\u001b[0;34m(\u001b[0m\u001b[0mkey\u001b[0m\u001b[0;34m=\u001b[0m\u001b[0;32mlambda\u001b[0m \u001b[0mx\u001b[0m\u001b[0;34m:\u001b[0m \u001b[0mx\u001b[0m\u001b[0;34m[\u001b[0m\u001b[0;34m'nombre'\u001b[0m\u001b[0;34m]\u001b[0m\u001b[0;34m,\u001b[0m \u001b[0mreverse\u001b[0m\u001b[0;34m=\u001b[0m\u001b[0;32mTrue\u001b[0m\u001b[0;34m)\u001b[0m\u001b[0;34m\u001b[0m\u001b[0;34m\u001b[0m\u001b[0m\n",
            "\u001b[0;31mTypeError\u001b[0m: tuple indices must be integers or slices, not str"
          ]
        }
      ]
    },
    {
      "cell_type": "code",
      "source": [
        "#Actividad 8 real con el metodo sort hecho por mi, sin compmlicaciones de chat gpt\n",
        "print(\"\"\"\n",
        "1. Ordenar alfabeticamente por nombre de manera ascendente\n",
        "2. Ordenar alfabeticamente por nombre de manera descendente\n",
        "\"\"\")\n",
        "\n",
        "opcion=int(input(\"Ingrese una opcion: \"))\n",
        "\n",
        "if opcion==1:\n",
        "  lista_alumnos.sort(key=lambda estudiante: estudiante[\"nombre\"])  #ascendente\n",
        "elif opcion==2:\n",
        "  lista_alumnos.sort(key=lambda estudiante: estudiante[\"nombre\"], reverse=True)  # descendente\n",
        "\n",
        "print(\"\"\"\n",
        "1. Salida en lista\n",
        "2. Salida en diccionario\n",
        "\"\"\")\n",
        "\n",
        "opcion_b=int(input(\"Ingrese una opcion: \"))\n",
        "\n",
        "if opcion_b==1:\n",
        "  print(\"Lista de estudiantes:\", [estudiante[\"nombre\"] for estudiante in lista_alumnos])\n",
        "elif opcion_b==2:\n",
        "  for estudiante in lista_alumnos:\n",
        "    print(estudiante)\n"
      ],
      "metadata": {
        "id": "6No33M4i9Vy7",
        "outputId": "777b0102-2ab5-4f77-b4d0-548d09356d87",
        "colab": {
          "base_uri": "https://localhost:8080/"
        }
      },
      "execution_count": 12,
      "outputs": [
        {
          "output_type": "stream",
          "name": "stdout",
          "text": [
            "\n",
            "1. Ordenar alfabeticamente por nombre de manera ascendente\n",
            "2. Ordenar alfabeticamente por nombre de manera descendente\n",
            "\n",
            "Ingrese una opcion: 2\n",
            "\n",
            "1. Salida en lista\n",
            "2. Salida en diccionario\n",
            "\n",
            "Ingrese una opcion: 2\n",
            "{'apellido': 'Retamal Cisneros', 'nombre': 'Zacarias Josue', 'curso': 5, 'division': 'D', 'feha_de_nacimiento': '24/02/2007'}\n",
            "{'apellido': 'Giangreco', 'nombre': 'Vitto Tomasso', 'curso': 5, 'division': 'C', 'feha_de_nacimiento': '21/03/2007'}\n",
            "{'apellido': 'Lopez', 'nombre': 'Victoria Constanza', 'curso': 5, 'division': 'C', 'feha_de_nacimiento': '12/11/2007'}\n",
            "{'apellido': 'Flores', 'nombre': 'Victoria Agustina', 'curso': 5, 'division': 'D', 'feha_de_nacimiento': '12/12/2006'}\n",
            "{'apellido': 'Bettinelli', 'nombre': 'Valentino', 'curso': 5, 'division': 'C', 'feha_de_nacimiento': '12/07/2006'}\n",
            "{'apellido': 'Martinez', 'nombre': 'Tomas Andres', 'curso': 5, 'division': 'D', 'feha_de_nacimiento': '22/03/2007'}\n",
            "{'apellido': 'Alurralde', 'nombre': 'Solange Stefania', 'curso': 5, 'division': 'D', 'feha_de_nacimiento': '02/04/2007'}\n",
            "{'apellido': 'Guanca', 'nombre': 'Sara Elizabeth', 'curso': 5, 'division': 'C', 'feha_de_nacimiento': '17/01/2007'}\n",
            "{'apellido': 'Zalazar', 'nombre': 'Santino Stefano', 'curso': 5, 'division': 'D', 'feha_de_nacimiento': '30/09/2006'}\n",
            "{'apellido': 'Figueroa', 'nombre': 'Santino Josue', 'curso': 5, 'division': 'C', 'feha_de_nacimiento': '12/05/2007'}\n",
            "{'apellido': 'Bracamonte Martinez', 'nombre': 'Salvador', 'curso': 5, 'division': 'C', 'feha_de_nacimiento': '02/11/2005'}\n",
            "{'apellido': 'Mamani Garrido', 'nombre': 'Rosario Agostina', 'curso': 5, 'division': 'C', 'feha_de_nacimiento': '24/10/2006'}\n",
            "{'apellido': 'Scarano', 'nombre': 'Renato Marcelo', 'curso': 5, 'division': 'C', 'feha_de_nacimiento': '06/12/2006'}\n",
            "{'apellido': 'Portella Valdivia', 'nombre': 'Pedro Francisco', 'curso': 5, 'division': 'D', 'feha_de_nacimiento': '24/01/2007'}\n",
            "{'apellido': 'Castillo', 'nombre': 'Paulina Milagros', 'curso': 5, 'division': 'D', 'feha_de_nacimiento': '01/06/2007'}\n",
            "{'apellido': 'Gallo', 'nombre': 'Octavio Ismael', 'curso': 5, 'division': 'C', 'feha_de_nacimiento': '04/08/2006'}\n",
            "{'apellido': 'Lacour Polo', 'nombre': 'Nazarena', 'curso': 5, 'division': 'D', 'feha_de_nacimiento': '19/12/2005'}\n",
            "{'apellido': 'Vilte', 'nombre': 'Mia Antonella Alondra', 'curso': 5, 'division': 'C', 'feha_de_nacimiento': '10/09/2005'}\n",
            "{'apellido': 'Sanchez Flores', 'nombre': 'Matías Agustín', 'curso': 5, 'division': 'C', 'feha_de_nacimiento': '15/02/2007'}\n",
            "{'apellido': 'Barrera', 'nombre': 'Matias Ezequiel', 'curso': 5, 'division': 'C', 'feha_de_nacimiento': '27/02/2007'}\n",
            "{'apellido': 'Grancara', 'nombre': 'Martina Luna', 'curso': 5, 'division': 'C', 'feha_de_nacimiento': '15/12/2006'}\n",
            "{'apellido': 'Messina', 'nombre': 'Martina', 'curso': 5, 'division': 'C', 'feha_de_nacimiento': '13/07/2005'}\n",
            "{'apellido': 'Tapia', 'nombre': 'Martin Gabriel', 'curso': 5, 'division': 'C', 'feha_de_nacimiento': '30/05/2006'}\n",
            "{'apellido': 'Marinaro', 'nombre': 'Martin Ezequiel', 'curso': 5, 'division': 'C', 'feha_de_nacimiento': '03/11/2006'}\n",
            "{'apellido': 'Caseres', 'nombre': 'Maria Antonia', 'curso': 5, 'division': 'D', 'feha_de_nacimiento': '01/07/2006'}\n",
            "{'apellido': 'Lascano Guanca', 'nombre': 'Marcelo Fabricio', 'curso': 5, 'division': 'D', 'feha_de_nacimiento': '17/02/2006'}\n",
            "{'apellido': 'Salem Barba', 'nombre': 'Mahia', 'curso': 5, 'division': 'D', 'feha_de_nacimiento': '14/10/2005'}\n",
            "{'apellido': 'Alvarado', 'nombre': 'Ludmila Del Milagro', 'curso': 5, 'division': 'D', 'feha_de_nacimiento': '06/09/2006'}\n",
            "{'apellido': 'Rios', 'nombre': 'Lucia Magali', 'curso': 5, 'division': 'C', 'feha_de_nacimiento': '22/09/2006'}\n",
            "{'apellido': 'Sierra', 'nombre': 'Lucas Mauricio', 'curso': 5, 'division': 'C', 'feha_de_nacimiento': '03/04/2005'}\n",
            "{'apellido': 'Arenas', 'nombre': 'Lucas Gabriel', 'curso': 5, 'division': 'C', 'feha_de_nacimiento': '26/06/2007'}\n",
            "{'apellido': 'Amador', 'nombre': 'Luana Micaela', 'curso': 5, 'division': 'C', 'feha_de_nacimiento': '09/12/2006'}\n",
            "{'apellido': 'Galvan', 'nombre': 'Lourdes Yamila', 'curso': 5, 'division': 'C', 'feha_de_nacimiento': '19/08/2005'}\n",
            "{'apellido': 'Abud Laspiur', 'nombre': 'Lourdes Mariel', 'curso': 5, 'division': 'C', 'feha_de_nacimiento': '05/12/2006'}\n",
            "{'apellido': 'Geronimo Soriano', 'nombre': 'Lizzie Amaya', 'curso': 5, 'division': 'D', 'feha_de_nacimiento': '20/01/2007'}\n",
            "{'apellido': 'Anaquin', 'nombre': 'Leonardo Ezequiel', 'curso': 5, 'division': 'C', 'feha_de_nacimiento': '06/09/2005'}\n",
            "{'apellido': 'Araoz Sanchez', 'nombre': 'Lautaro Nahuel', 'curso': 5, 'division': 'C', 'feha_de_nacimiento': '28/12/2005'}\n",
            "{'apellido': 'Virgillito', 'nombre': 'Katya Milena', 'curso': 5, 'division': 'C', 'feha_de_nacimiento': '19/06/2007'}\n",
            "{'apellido': 'Rasuk', 'nombre': 'Karim', 'curso': 5, 'division': 'C', 'feha_de_nacimiento': '13/07/2007'}\n",
            "{'apellido': 'Barrozo Vedia', 'nombre': 'Joaquin Nicolas', 'curso': 5, 'division': 'C', 'feha_de_nacimiento': '15/04/2006'}\n",
            "{'apellido': 'Guzman', 'nombre': 'Jazmin Esmeralda Belen', 'curso': 5, 'division': 'D', 'feha_de_nacimiento': '31/07/2006'}\n",
            "{'apellido': 'Villalba', 'nombre': 'Irina', 'curso': 5, 'division': 'D', 'feha_de_nacimiento': '09/09/2006'}\n",
            "{'apellido': 'Merluzzi Dagum', 'nombre': 'Ignacio', 'curso': 5, 'division': 'C', 'feha_de_nacimiento': '22/12/2005'}\n",
            "{'apellido': 'Correa Segovia', 'nombre': 'Hugo Mariano', 'curso': 5, 'division': 'D', 'feha_de_nacimiento': '04/12/2006'}\n",
            "{'apellido': 'Rosales', 'nombre': 'Francisco Gabriel', 'curso': 5, 'division': 'D', 'feha_de_nacimiento': '14/11/2006'}\n",
            "{'apellido': 'Voltolini', 'nombre': 'Emanuel Tobias', 'curso': 5, 'division': 'D', 'feha_de_nacimiento': '17/09/2006'}\n",
            "{'apellido': 'Diaz', 'nombre': 'Dulce Maitena', 'curso': 5, 'division': 'C', 'feha_de_nacimiento': '11/12/2006'}\n",
            "{'apellido': 'Lezcano', 'nombre': 'Celia Morena', 'curso': 5, 'division': 'D', 'feha_de_nacimiento': '01/07/2005'}\n",
            "{'apellido': 'Angel', 'nombre': 'Camila Juliana', 'curso': 5, 'division': 'D', 'feha_de_nacimiento': '07/03/2007'}\n",
            "{'apellido': 'Colque Rivero', 'nombre': 'Ariana Zoe Del Valle', 'curso': 5, 'division': 'C', 'feha_de_nacimiento': '27/12/2006'}\n",
            "{'apellido': 'Jaime', 'nombre': 'Anita Maria Belen', 'curso': 5, 'division': 'D', 'feha_de_nacimiento': '19/04/2007'}\n",
            "{'apellido': 'Guzman', 'nombre': 'Angélica Morena', 'curso': 5, 'division': 'D', 'feha_de_nacimiento': '11/04/2007'}\n",
            "{'apellido': 'D Elia', 'nombre': 'Alvaro Tadeo', 'curso': 5, 'division': 'D', 'feha_de_nacimiento': '27/08/2006'}\n",
            "{'apellido': 'Flores Cardozo', 'nombre': 'Agustina Tiara', 'curso': 5, 'division': 'C', 'feha_de_nacimiento': '18/03/2006'}\n",
            "{'apellido': 'Soto Camara', 'nombre': 'Agustin Ignacio', 'curso': 5, 'division': 'D', 'feha_de_nacimiento': '07/11/2005'}\n",
            "{'apellido': 'Argañaraz', 'nombre': 'Agostina Abril', 'curso': 5, 'division': 'C', 'feha_de_nacimiento': '11/10/2006'}\n"
          ]
        }
      ]
    },
    {
      "cell_type": "markdown",
      "source": [
        "9. Ordenar la lista alfabeticamente por apellido. Ascendente y descendentemente. Para elegir como ordenarla, mostrar un menú donde el usuario podrá decidir como quiere ver la salida."
      ],
      "metadata": {
        "id": "lW18NgPjRcGP"
      }
    },
    {
      "cell_type": "code",
      "source": [],
      "metadata": {
        "id": "jTtWBnalRcoC"
      },
      "execution_count": null,
      "outputs": []
    },
    {
      "cell_type": "markdown",
      "source": [
        "10. Ordena la lista por fecha de nacimiento, de manera ascendente y descendente."
      ],
      "metadata": {
        "id": "E24lH7x5Xbur"
      }
    },
    {
      "cell_type": "code",
      "source": [],
      "metadata": {
        "id": "9SeI3GBGXims"
      },
      "execution_count": null,
      "outputs": []
    },
    {
      "cell_type": "markdown",
      "source": [
        "11. Generar una estuctura de diccionario anidado en donde la clave sea el nombre del estudiante y el valor sea un diccionario con los datos del mismo, de la siguiente manera:\n",
        "\n",
        "\n",
        "\n",
        "\n",
        "```python\n",
        "estudiantes = {\n",
        "    \"Juan Perez\": {\n",
        "        \"año\": 2024,\n",
        "        \"división\": \"5D\",\n",
        "        \"fecha de nacimiento\": \"15/03/2006\"\n",
        "    },\n",
        "    \"Maria Gomez\": {\n",
        "        \"año\": 2024,\n",
        "        \"división\": \"5D\",\n",
        "        \"fecha de nacimiento\": \"22/07/2006\"\n",
        "    },\n",
        "    \"Carlos Lopez\": {\n",
        "        \"año\": 2024,\n",
        "        \"división\": \"5D\",\n",
        "        \"fecha de nacimiento\": \"05/10/2006\"\n",
        "    }\n",
        "}\n",
        "```\n",
        "\n",
        "\n",
        "\n",
        "\n"
      ],
      "metadata": {
        "id": "vOY6K_ydRc3Q"
      }
    },
    {
      "cell_type": "code",
      "source": [],
      "metadata": {
        "id": "9JDrd3WqRdTi"
      },
      "execution_count": null,
      "outputs": []
    }
  ]
}